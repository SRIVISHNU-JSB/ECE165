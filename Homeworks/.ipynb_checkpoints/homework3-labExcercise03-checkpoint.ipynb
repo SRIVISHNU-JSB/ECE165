{
 "cells": [
  {
   "cell_type": "code",
   "execution_count": 3,
   "id": "e576a243",
   "metadata": {},
   "outputs": [
    {
     "name": "stdout",
     "output_type": "stream",
     "text": [
      "Hello World!\n",
      "Hello World!\n"
     ]
    }
   ],
   "source": [
    "# Q.1 Write the output of the followings:\n",
    "\n",
    "def sayHello():\n",
    "    print('Hello World!')\n",
    "sayHello()\n",
    "sayHello()"
   ]
  },
  {
   "cell_type": "code",
   "execution_count": 6,
   "id": "16485cbb",
   "metadata": {},
   "outputs": [
    {
     "name": "stdout",
     "output_type": "stream",
     "text": [
      "4  is maximum.\n"
     ]
    }
   ],
   "source": [
    "# Q.2 Write the output of the followings:\n",
    "\n",
    "def printMax(a,b):\n",
    "    if a > b:\n",
    "        Print(a, ' is maximum.')\n",
    "    elif a == b:\n",
    "        print(a, ' is equal to ', b)\n",
    "    else:\n",
    "        print(b, ' is maximum.')\n",
    "printMax(3, 4)"
   ]
  },
  {
   "cell_type": "code",
   "execution_count": null,
   "id": "285d91c0",
   "metadata": {},
   "outputs": [],
   "source": [
    "# Q.3 Write the output of the following. Then make some modifications in the code as under\n",
    "# and again note down the outputs:\n",
    "\n",
    "# Modifications:\n",
    "# a. Change the indentation of the print(fact) statement by shifting it to the right\n",
    "# b. Change the indentation of the print(fact) statement by shifting it to the left\n",
    "# c. Change the initialization as i=0, instead i=1\n",
    "# d. Change the order of the variable increment statement within the while loop,\n",
    "# i.e., shift i=i+1 at the start of the loop instead at the end of the loop."
   ]
  },
  {
   "cell_type": "code",
   "execution_count": 6,
   "id": "c3b65c12",
   "metadata": {},
   "outputs": [
    {
     "name": "stdout",
     "output_type": "stream",
     "text": [
      "6\n"
     ]
    }
   ],
   "source": [
    "# Creating Function\n",
    "def factn(n):\n",
    "    i = 1; fact = 1\n",
    "    while i<n:\n",
    "        fact = fact * i\n",
    "        i += 1\n",
    "    print(fact)\n",
    "factn(4)"
   ]
  },
  {
   "cell_type": "code",
   "execution_count": 7,
   "id": "1f5d7508",
   "metadata": {},
   "outputs": [
    {
     "name": "stdout",
     "output_type": "stream",
     "text": [
      "1\n",
      "2\n",
      "6\n"
     ]
    }
   ],
   "source": [
    "# a. Change the indentation of the print(fact) statement by shifting it to the right\n",
    "def factn(n):\n",
    "    i = 1; fact = 1\n",
    "    while i<n:\n",
    "        fact = fact * i\n",
    "        i += 1\n",
    "        print(fact)\n",
    "factn(4)"
   ]
  },
  {
   "cell_type": "code",
   "execution_count": 8,
   "id": "b1fc8616",
   "metadata": {},
   "outputs": [
    {
     "name": "stdout",
     "output_type": "stream",
     "text": [
      "6\n"
     ]
    }
   ],
   "source": [
    "# b. Change the indentation of the print(fact) statement by shifting it to the left\n",
    "def factn(n):\n",
    "    i = 1; fact = 1\n",
    "    while i<n:\n",
    "        fact = fact * i\n",
    "        i += 1\n",
    "    print(fact)\n",
    "factn(4)"
   ]
  },
  {
   "cell_type": "code",
   "execution_count": 9,
   "id": "21c40a74",
   "metadata": {},
   "outputs": [
    {
     "name": "stdout",
     "output_type": "stream",
     "text": [
      "0\n"
     ]
    }
   ],
   "source": [
    "# c. Change the initialization as i=0, instead i=1\n",
    "def factn(n):\n",
    "    i = 0; fact = 1\n",
    "    while i<n:\n",
    "        fact = fact * i\n",
    "        i += 1\n",
    "    print(fact)\n",
    "factn(4)"
   ]
  },
  {
   "cell_type": "code",
   "execution_count": 10,
   "id": "da5f8177",
   "metadata": {
    "scrolled": true
   },
   "outputs": [
    {
     "name": "stdout",
     "output_type": "stream",
     "text": [
      "24\n"
     ]
    }
   ],
   "source": [
    "# d. Change the order of the variable increment statement within the while loop,\n",
    "def factn(n):\n",
    "    i = 0; fact = 1\n",
    "    while i<n:\n",
    "        i += 1\n",
    "        fact = fact * i\n",
    "    print(fact)\n",
    "factn(4)"
   ]
  },
  {
   "cell_type": "code",
   "execution_count": 17,
   "id": "452d5121",
   "metadata": {},
   "outputs": [
    {
     "name": "stdout",
     "output_type": "stream",
     "text": [
      "x is  50\n",
      "Changed local x to  2\n"
     ]
    },
    {
     "ename": "NameError",
     "evalue": "name 'x' is not defined",
     "output_type": "error",
     "traceback": [
      "\u001b[0;31m---------------------------------------------------------------------------\u001b[0m",
      "\u001b[0;31mNameError\u001b[0m                                 Traceback (most recent call last)",
      "Input \u001b[0;32mIn [17]\u001b[0m, in \u001b[0;36m<cell line: 9>\u001b[0;34m()\u001b[0m\n\u001b[1;32m      7\u001b[0m     \u001b[38;5;28mprint\u001b[39m(\u001b[38;5;124m'\u001b[39m\u001b[38;5;124mChanged local x to \u001b[39m\u001b[38;5;124m'\u001b[39m, x)\n\u001b[1;32m      8\u001b[0m func(X)\n\u001b[0;32m----> 9\u001b[0m \u001b[38;5;28mprint\u001b[39m(\u001b[38;5;124m'\u001b[39m\u001b[38;5;124mx is now \u001b[39m\u001b[38;5;124m'\u001b[39m, \u001b[43mx\u001b[49m)\n",
      "\u001b[0;31mNameError\u001b[0m: name 'x' is not defined"
     ]
    }
   ],
   "source": [
    "# Q.3 Write the output of the followings (local variables):\n",
    "X = 50\n",
    "\n",
    "def func(x):\n",
    "    print('x is ', x)\n",
    "    x = 2\n",
    "    print('Changed local x to ', x)\n",
    "func(X)\n",
    "print('x is now ', x)"
   ]
  },
  {
   "cell_type": "code",
   "execution_count": null,
   "id": "f4edd658",
   "metadata": {},
   "outputs": [],
   "source": [
    "# Q.4 What will be the type of the output of the following expressions:\n",
    "# a. What is returned by math.ceil(3.4)?\n",
    "# b. What is returned by math.floor(3.4)?\n",
    "# c. What is returned by math,fact(6)?"
   ]
  },
  {
   "cell_type": "code",
   "execution_count": 21,
   "id": "ffd5a3bd",
   "metadata": {},
   "outputs": [
    {
     "data": {
      "text/plain": [
       "4"
      ]
     },
     "execution_count": 21,
     "metadata": {},
     "output_type": "execute_result"
    },
    {
     "data": {
      "text/plain": [
       "3"
      ]
     },
     "execution_count": 21,
     "metadata": {},
     "output_type": "execute_result"
    },
    {
     "data": {
      "text/plain": [
       "720"
      ]
     },
     "execution_count": 21,
     "metadata": {},
     "output_type": "execute_result"
    }
   ],
   "source": [
    "import math\n",
    "\n",
    "math.ceil(3.4)\n",
    "math.floor(3.4)\n",
    "math.factorial(6)"
   ]
  },
  {
   "cell_type": "code",
   "execution_count": null,
   "id": "7817828f",
   "metadata": {},
   "outputs": [],
   "source": [
    "# Q.5 [a] Implement a function that takes as input three variables, and returns the largest of\n",
    "# the three. Do this without using Python max() function.\n"
   ]
  },
  {
   "cell_type": "code",
   "execution_count": 24,
   "id": "9bf6da84",
   "metadata": {},
   "outputs": [
    {
     "data": {
      "text/plain": [
       "117.0"
      ]
     },
     "execution_count": 24,
     "metadata": {},
     "output_type": "execute_result"
    },
    {
     "data": {
      "text/plain": [
       "117"
      ]
     },
     "execution_count": 24,
     "metadata": {},
     "output_type": "execute_result"
    }
   ],
   "source": [
    "# Q.5 [b] Import the math module in whatever way you prefer. Call its sqrt function on the\n",
    "# number 13689 and print that value to the console.\n",
    "math.sqrt(13689)\n",
    "int(math.sqrt(13689))"
   ]
  },
  {
   "cell_type": "code",
   "execution_count": 29,
   "id": "eb2d3ce2",
   "metadata": {},
   "outputs": [
    {
     "ename": "NameError",
     "evalue": "name 'one' is not defined",
     "output_type": "error",
     "traceback": [
      "\u001b[0;31m---------------------------------------------------------------------------\u001b[0m",
      "\u001b[0;31mNameError\u001b[0m                                 Traceback (most recent call last)",
      "Input \u001b[0;32mIn [29]\u001b[0m, in \u001b[0;36m<cell line: 5>\u001b[0;34m()\u001b[0m\n\u001b[1;32m      1\u001b[0m \u001b[38;5;66;03m# Q.6 Create at least one example of the following type conversion functions:\u001b[39;00m\n\u001b[1;32m      2\u001b[0m \u001b[38;5;66;03m# int(a, base), float(), ord(), hex(), str(), chr()\u001b[39;00m\n\u001b[1;32m      4\u001b[0m a \u001b[38;5;241m=\u001b[39m \u001b[38;5;241m1\u001b[39m\n\u001b[0;32m----> 5\u001b[0m base \u001b[38;5;241m=\u001b[39m \u001b[43mone\u001b[49m\n\u001b[1;32m      6\u001b[0m \u001b[38;5;28mint\u001b[39m(a, base)\n",
      "\u001b[0;31mNameError\u001b[0m: name 'one' is not defined"
     ]
    }
   ],
   "source": [
    "# Q.6 Create at least one example of the following type conversion functions:\n",
    "# int(a, base), float(), ord(), hex(), str(), chr()\n",
    "\n"
   ]
  }
 ],
 "metadata": {
  "kernelspec": {
   "display_name": "Python 3 (ipykernel)",
   "language": "python",
   "name": "python3"
  },
  "language_info": {
   "codemirror_mode": {
    "name": "ipython",
    "version": 3
   },
   "file_extension": ".py",
   "mimetype": "text/x-python",
   "name": "python",
   "nbconvert_exporter": "python",
   "pygments_lexer": "ipython3",
   "version": "3.9.12"
  }
 },
 "nbformat": 4,
 "nbformat_minor": 5
}
