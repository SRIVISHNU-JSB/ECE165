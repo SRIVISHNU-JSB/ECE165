{
 "cells": [
  {
   "cell_type": "markdown",
   "id": "c04152f2",
   "metadata": {},
   "source": [
    "### Introduction to various features of Python in-build Library and fuctions"
   ]
  },
  {
   "cell_type": "code",
   "execution_count": 15,
   "id": "19cec966",
   "metadata": {},
   "outputs": [
    {
     "data": {
      "text/plain": [
       "int"
      ]
     },
     "execution_count": 15,
     "metadata": {},
     "output_type": "execute_result"
    },
    {
     "data": {
      "text/plain": [
       "float"
      ]
     },
     "execution_count": 15,
     "metadata": {},
     "output_type": "execute_result"
    },
    {
     "data": {
      "text/plain": [
       "int"
      ]
     },
     "execution_count": 15,
     "metadata": {},
     "output_type": "execute_result"
    },
    {
     "data": {
      "text/plain": [
       "int"
      ]
     },
     "execution_count": 15,
     "metadata": {},
     "output_type": "execute_result"
    },
    {
     "data": {
      "text/plain": [
       "int"
      ]
     },
     "execution_count": 15,
     "metadata": {},
     "output_type": "execute_result"
    },
    {
     "name": "stdout",
     "output_type": "stream",
     "text": [
      "200\n"
     ]
    }
   ],
   "source": [
    "# Q.1 Find the types of the following outputs:\n",
    "type(2*2)\n",
    "type(9/3)\n",
    "type(6%3)\n",
    "type(10**4)\n",
    "type(10**2*2)\n",
    "print(10**2*2)\n"
   ]
  },
  {
   "cell_type": "code",
   "execution_count": null,
   "id": "f593c896",
   "metadata": {},
   "outputs": [],
   "source": [
    "# Q.2 a. Play around with integers and decimals. What happens if you divide an integer with \\\n",
    "# an integer or a decimal?\n",
    "# b. Demonstrate the usage of comments in Python.\n"
   ]
  },
  {
   "cell_type": "code",
   "execution_count": 20,
   "id": "1c919f46",
   "metadata": {},
   "outputs": [
    {
     "data": {
      "text/plain": [
       "25"
      ]
     },
     "execution_count": 20,
     "metadata": {},
     "output_type": "execute_result"
    },
    {
     "data": {
      "text/plain": [
       "19"
      ]
     },
     "execution_count": 20,
     "metadata": {},
     "output_type": "execute_result"
    },
    {
     "data": {
      "text/plain": [
       "66"
      ]
     },
     "execution_count": 20,
     "metadata": {},
     "output_type": "execute_result"
    },
    {
     "data": {
      "text/plain": [
       "7.333333333333333"
      ]
     },
     "execution_count": 20,
     "metadata": {},
     "output_type": "execute_result"
    },
    {
     "data": {
      "text/plain": [
       "7"
      ]
     },
     "execution_count": 20,
     "metadata": {},
     "output_type": "execute_result"
    },
    {
     "data": {
      "text/plain": [
       "10648"
      ]
     },
     "execution_count": 20,
     "metadata": {},
     "output_type": "execute_result"
    },
    {
     "data": {
      "text/plain": [
       "81"
      ]
     },
     "execution_count": 20,
     "metadata": {},
     "output_type": "execute_result"
    },
    {
     "data": {
      "text/plain": [
       "243"
      ]
     },
     "execution_count": 20,
     "metadata": {},
     "output_type": "execute_result"
    },
    {
     "data": {
      "text/plain": [
       "81"
      ]
     },
     "execution_count": 20,
     "metadata": {},
     "output_type": "execute_result"
    },
    {
     "data": {
      "text/plain": [
       "36350622.666666664"
      ]
     },
     "execution_count": 20,
     "metadata": {},
     "output_type": "execute_result"
    },
    {
     "data": {
      "text/plain": [
       "-86.0"
      ]
     },
     "execution_count": 20,
     "metadata": {},
     "output_type": "execute_result"
    }
   ],
   "source": [
    "# Q.3 Given x = 22 and y = 3, find the output first manually and then match it with the output\n",
    "# through the computer for the followings:\n",
    "x, y = 22, 3\n",
    "Number = 1 + 2 * 22 / 4\n",
    "Reminder = 11%3\n",
    "x + y\n",
    "x - y\n",
    "x * y\n",
    "x / y\n",
    "x // y\n",
    "x ** y\n",
    "3*x+5*y\n",
    "3*(x+5)*y\n",
    "(3*x)+(5*y)\n",
    "2**x*13/3*2-12\n",
    "12/y*17%3-4*x"
   ]
  },
  {
   "cell_type": "code",
   "execution_count": null,
   "id": "90c7a36c",
   "metadata": {},
   "outputs": [],
   "source": [
    "# Q.4 Calculate the followings:\n",
    "# a. The equation to calculate the compound interest is: A = P(1 + R/N)NT; where A is the final amount, P is the principal amount, I is the annual interest rate, T is the number\n",
    "# of years money deposited and N is the number of years the interest is compounded\n",
    "# per year. Calculate the final amount after 5 years with a principle amount of 12000 Rs \n",
    "# and interest rate of 7% . The interest is compounded quarterly."
   ]
  },
  {
   "cell_type": "code",
   "execution_count": null,
   "id": "fdb024a8",
   "metadata": {},
   "outputs": [],
   "source": []
  },
  {
   "cell_type": "code",
   "execution_count": null,
   "id": "8a30199f",
   "metadata": {},
   "outputs": [],
   "source": [
    "# b. Implement the formula to convert the temperature in o centigrade to o Fahrenheit to\n",
    "# is as under: OF = OC x 1.8 + 32. Implement the formula and find temp in OF given\n",
    "# temp is 70OC."
   ]
  },
  {
   "cell_type": "code",
   "execution_count": null,
   "id": "36afe198",
   "metadata": {},
   "outputs": [],
   "source": []
  },
  {
   "cell_type": "code",
   "execution_count": null,
   "id": "2a56a804",
   "metadata": {},
   "outputs": [],
   "source": [
    "# c. The formula to convert the temperature in o Fahrenheit to o centigrade is as under:\n",
    "# OC = (OF – 32) x 5/9. Implement the formula and find temp in OC given temp is 70OF."
   ]
  },
  {
   "cell_type": "code",
   "execution_count": null,
   "id": "7850e804",
   "metadata": {},
   "outputs": [],
   "source": []
  }
 ],
 "metadata": {
  "kernelspec": {
   "display_name": "Python 3 (ipykernel)",
   "language": "python",
   "name": "python3"
  },
  "language_info": {
   "codemirror_mode": {
    "name": "ipython",
    "version": 3
   },
   "file_extension": ".py",
   "mimetype": "text/x-python",
   "name": "python",
   "nbconvert_exporter": "python",
   "pygments_lexer": "ipython3",
   "version": "3.9.12"
  }
 },
 "nbformat": 4,
 "nbformat_minor": 5
}
