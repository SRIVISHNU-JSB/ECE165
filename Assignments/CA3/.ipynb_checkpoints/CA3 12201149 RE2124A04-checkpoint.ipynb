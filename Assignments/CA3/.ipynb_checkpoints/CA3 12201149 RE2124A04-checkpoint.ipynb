{
 "cells": [
  {
   "cell_type": "markdown",
   "id": "4cdc7e05",
   "metadata": {},
   "source": [
    "## CA 3 - Machine Learning\n",
    "## Using Linear Regressor & Nerual Network Regressor"
   ]
  },
  {
   "cell_type": "code",
   "execution_count": 4,
   "id": "9dab0a4d",
   "metadata": {},
   "outputs": [],
   "source": [
    "import math\n",
    "import numpy as np\n",
    "import pandas as pd\n",
    "import matplotlib.pyplot as plt\n",
    "\n",
    "import datetime as dt"
   ]
  },
  {
   "cell_type": "code",
   "execution_count": 5,
   "id": "8be6edce",
   "metadata": {
    "scrolled": true
   },
   "outputs": [],
   "source": [
    "source_df=pd.read_excel(\"~/Downloads/Updated_PowerConsumption_India.xls\",parse_dates=['Date'])\n",
    "\n",
    "report = source_df\n",
    "# report.info()\n",
    "# report"
   ]
  },
  {
   "cell_type": "code",
   "execution_count": 28,
   "id": "c0fe31c1",
   "metadata": {},
   "outputs": [],
   "source": [
    "# my_states_df=pd.DataFrame(report, columns = ['Meghalaya','Tripura'])\n",
    "# assigned_states_df=pd.DataFrame(report, columns = ['Date','Year','month','Day','Meghalaya','Tripura'])\n",
    "# assigned_states_df=pd.DataFrame(report, columns = ['Date','Meghalaya','Tripura'])\n",
    "assigned_states_df=pd.DataFrame(report, columns = ['Date','Meghalaya'])\n",
    "\n",
    "## To export the dataframe to csv with Total Consumption column comment the lines with/without index values\n",
    "assigned_states_df.to_csv('~/Downloads/Updated_PowerConsumption_India.csv', sep=',',index=False,header=True)\n"
   ]
  },
  {
   "cell_type": "code",
   "execution_count": 29,
   "id": "8155949a",
   "metadata": {},
   "outputs": [
    {
     "data": {
      "text/html": [
       "<div>\n",
       "<style scoped>\n",
       "    .dataframe tbody tr th:only-of-type {\n",
       "        vertical-align: middle;\n",
       "    }\n",
       "\n",
       "    .dataframe tbody tr th {\n",
       "        vertical-align: top;\n",
       "    }\n",
       "\n",
       "    .dataframe thead th {\n",
       "        text-align: right;\n",
       "    }\n",
       "</style>\n",
       "<table border=\"1\" class=\"dataframe\">\n",
       "  <thead>\n",
       "    <tr style=\"text-align: right;\">\n",
       "      <th></th>\n",
       "      <th>Date</th>\n",
       "      <th>Meghalaya</th>\n",
       "      <th>Tripura</th>\n",
       "    </tr>\n",
       "  </thead>\n",
       "  <tbody>\n",
       "    <tr>\n",
       "      <th>0</th>\n",
       "      <td>2019-01-02</td>\n",
       "      <td>6.1</td>\n",
       "      <td>3.4</td>\n",
       "    </tr>\n",
       "    <tr>\n",
       "      <th>1</th>\n",
       "      <td>2019-01-03</td>\n",
       "      <td>6.5</td>\n",
       "      <td>3.6</td>\n",
       "    </tr>\n",
       "    <tr>\n",
       "      <th>2</th>\n",
       "      <td>2019-01-04</td>\n",
       "      <td>6.3</td>\n",
       "      <td>3.5</td>\n",
       "    </tr>\n",
       "    <tr>\n",
       "      <th>3</th>\n",
       "      <td>2019-01-05</td>\n",
       "      <td>5.7</td>\n",
       "      <td>3.5</td>\n",
       "    </tr>\n",
       "    <tr>\n",
       "      <th>4</th>\n",
       "      <td>2019-01-06</td>\n",
       "      <td>6.2</td>\n",
       "      <td>3.3</td>\n",
       "    </tr>\n",
       "    <tr>\n",
       "      <th>...</th>\n",
       "      <td>...</td>\n",
       "      <td>...</td>\n",
       "      <td>...</td>\n",
       "    </tr>\n",
       "    <tr>\n",
       "      <th>498</th>\n",
       "      <td>2020-12-01</td>\n",
       "      <td>5.4</td>\n",
       "      <td>2.4</td>\n",
       "    </tr>\n",
       "    <tr>\n",
       "      <th>499</th>\n",
       "      <td>2020-12-02</td>\n",
       "      <td>5.4</td>\n",
       "      <td>3.3</td>\n",
       "    </tr>\n",
       "    <tr>\n",
       "      <th>500</th>\n",
       "      <td>2020-12-03</td>\n",
       "      <td>5.4</td>\n",
       "      <td>3.6</td>\n",
       "    </tr>\n",
       "    <tr>\n",
       "      <th>501</th>\n",
       "      <td>2020-12-04</td>\n",
       "      <td>5.7</td>\n",
       "      <td>3.3</td>\n",
       "    </tr>\n",
       "    <tr>\n",
       "      <th>502</th>\n",
       "      <td>2020-12-05</td>\n",
       "      <td>5.8</td>\n",
       "      <td>3.3</td>\n",
       "    </tr>\n",
       "  </tbody>\n",
       "</table>\n",
       "<p>503 rows × 3 columns</p>\n",
       "</div>"
      ],
      "text/plain": [
       "          Date  Meghalaya  Tripura\n",
       "0   2019-01-02        6.1      3.4\n",
       "1   2019-01-03        6.5      3.6\n",
       "2   2019-01-04        6.3      3.5\n",
       "3   2019-01-05        5.7      3.5\n",
       "4   2019-01-06        6.2      3.3\n",
       "..         ...        ...      ...\n",
       "498 2020-12-01        5.4      2.4\n",
       "499 2020-12-02        5.4      3.3\n",
       "500 2020-12-03        5.4      3.6\n",
       "501 2020-12-04        5.7      3.3\n",
       "502 2020-12-05        5.8      3.3\n",
       "\n",
       "[503 rows x 3 columns]"
      ]
     },
     "execution_count": 29,
     "metadata": {},
     "output_type": "execute_result"
    }
   ],
   "source": [
    "df = pd.read_csv('~/Downloads/Updated_PowerConsumption_India.csv',parse_dates=['Date'])\n",
    "df"
   ]
  },
  {
   "cell_type": "code",
   "execution_count": 8,
   "id": "172c9f66",
   "metadata": {},
   "outputs": [],
   "source": [
    "df['Date'] = pd.to_datetime(df['Date'])\n",
    "df['Date']=df['Date'].map(dt.datetime.toordinal)"
   ]
  },
  {
   "cell_type": "code",
   "execution_count": 9,
   "id": "bd8241f7",
   "metadata": {
    "scrolled": true
   },
   "outputs": [],
   "source": [
    "# df.tail()\n",
    "# len(df)"
   ]
  },
  {
   "cell_type": "code",
   "execution_count": 10,
   "id": "7464e151",
   "metadata": {},
   "outputs": [],
   "source": [
    "# df.iloc[:, 0].astype(int).map(dt.datetime.fromordinal)"
   ]
  },
  {
   "cell_type": "code",
   "execution_count": 11,
   "id": "c1a9ffa9",
   "metadata": {},
   "outputs": [
    {
     "data": {
      "text/plain": [
       "503"
      ]
     },
     "execution_count": 11,
     "metadata": {},
     "output_type": "execute_result"
    }
   ],
   "source": [
    "# df = df.set_index(['Date'])\n",
    "len(df)"
   ]
  },
  {
   "cell_type": "code",
   "execution_count": 12,
   "id": "5264ffc7",
   "metadata": {},
   "outputs": [],
   "source": [
    "# date_df = assigned_states_df['Date']\n",
    "# my_state_df = assigned_states_df['Meghalaya']\n",
    "\n",
    "# date_df = assigned_states_df['Date']\n",
    "# my_state_df = assigned_states_df['Meghalaya']\n",
    "# neighbor_state_df = assigned_states_df['Tripura']"
   ]
  },
  {
   "cell_type": "markdown",
   "id": "a6ff2fa7",
   "metadata": {},
   "source": [
    "### SKLEARN"
   ]
  },
  {
   "cell_type": "code",
   "execution_count": 13,
   "id": "3f89a1e0",
   "metadata": {},
   "outputs": [],
   "source": [
    "from sklearn import preprocessing\n",
    "from sklearn.model_selection import train_test_split\n",
    "from matplotlib import pyplot as plt"
   ]
  },
  {
   "cell_type": "code",
   "execution_count": 14,
   "id": "acecb798",
   "metadata": {},
   "outputs": [],
   "source": [
    "forecast_col = 'Meghalaya'\n",
    "\n",
    "forecast_out = int(math.ceil(0.01 * len(df)))\n",
    "\n",
    "# forecast_out\n",
    "df['label'] = df[forecast_col].shift(-forecast_out)\n",
    "\n",
    "# X = np.array(df.drop(['label'], 1))\n",
    "X = np.array(df.drop(columns='label'))\n",
    "X = preprocessing.scale(X)\n",
    "X_lately = X[:-forecast_out:]\n",
    "\n",
    "X = X[:-forecast_out]\n",
    "# X = df\n",
    "\n",
    "# X\n",
    "\n",
    "df.dropna(inplace=True)\n",
    "\n",
    "Y = np.array(df['label'])\n",
    "# Y = df"
   ]
  },
  {
   "cell_type": "code",
   "execution_count": 15,
   "id": "c9205229",
   "metadata": {},
   "outputs": [
    {
     "name": "stdout",
     "output_type": "stream",
     "text": [
      "(397, 2) (100, 2) (397,) (100,)\n"
     ]
    }
   ],
   "source": [
    "x_train, x_test,y_train,y_test = train_test_split(X,Y,test_size =0.2)\n",
    "\n",
    "print(x_train.shape, x_test.shape, y_train.shape, y_test.shape)"
   ]
  },
  {
   "cell_type": "code",
   "execution_count": 16,
   "id": "71850a2c",
   "metadata": {},
   "outputs": [],
   "source": [
    "from sklearn.linear_model import LinearRegression\n",
    "model = LinearRegression()"
   ]
  },
  {
   "cell_type": "code",
   "execution_count": 17,
   "id": "3e0f3016",
   "metadata": {},
   "outputs": [
    {
     "data": {
      "text/plain": [
       "LinearRegression()"
      ]
     },
     "execution_count": 17,
     "metadata": {},
     "output_type": "execute_result"
    },
    {
     "data": {
      "text/plain": [
       "-0.0008678709279827945"
      ]
     },
     "execution_count": 17,
     "metadata": {},
     "output_type": "execute_result"
    },
    {
     "name": "stdout",
     "output_type": "stream",
     "text": [
      "    Actual  Predicted\n",
      "0      5.8   5.496099\n",
      "1      6.2   5.644003\n",
      "2      5.3   5.608774\n",
      "3      6.4   5.690469\n",
      "4      5.6   5.585735\n",
      "..     ...        ...\n",
      "95     5.8   5.606609\n",
      "96     6.3   5.639889\n",
      "97     5.9   5.600077\n",
      "98     5.7   5.690247\n",
      "99     5.5   5.608946\n",
      "\n",
      "[100 rows x 2 columns]\n"
     ]
    }
   ],
   "source": [
    "clf = LinearRegression()\n",
    "\n",
    "clf.fit(x_train, y_train)\n",
    "clf.score(x_test, y_test)\n",
    "\n",
    "# clf.predict(x_test)\n",
    "y_pred = clf.predict(x_test)\n",
    "df_preds = pd.DataFrame({'Actual': y_test.squeeze(), 'Predicted': y_pred.squeeze()})\n",
    "print(df_preds)"
   ]
  },
  {
   "cell_type": "code",
   "execution_count": 18,
   "id": "3a16c6eb",
   "metadata": {},
   "outputs": [],
   "source": [
    "df3 = pd.DataFrame()\n",
    "df4 = pd.DataFrame()"
   ]
  },
  {
   "cell_type": "code",
   "execution_count": 19,
   "id": "203fbb6f",
   "metadata": {},
   "outputs": [
    {
     "name": "stdout",
     "output_type": "stream",
     "text": [
      "Power Consumption on 2021-03-01 is 5.6373429811676825.\n",
      "Power Consumption on 2022-03-01 is 5.671137932034045.\n"
     ]
    }
   ],
   "source": [
    "forecast_set_1 = clf.predict(X_lately)\n",
    "df3['Forecast_LR'] = np.nan\n",
    "\n",
    "df1=df.iloc[:, 0].astype(int).map(dt.datetime.fromordinal)\n",
    "\n",
    "last_date = df1.iloc[-1]\n",
    "\n",
    "last_unix = last_date.timestamp()\n",
    "\n",
    "one_day = 86400\n",
    "next_unix = last_unix + one_day\n",
    "\n",
    "for i in forecast_set_1:\n",
    "    next_date = dt.datetime.fromtimestamp(next_unix)\n",
    "\n",
    "    next_unix += 86400\n",
    "    df3.loc[next_date] = [np.nan for _ in range(len(df3.columns)-1)]+[i]\n",
    "    if (next_date.strftime(\"%Y-%m-%d\") == \"2021-03-01\"):\n",
    "        next_date_1=next_date.strftime(\"%Y-%m-%d\")\n",
    "        print(f\"Power Consumption on {next_date_1} is {i}.\")\n",
    "    if (next_date.strftime(\"%Y-%m-%d\") == \"2022-03-01\"):\n",
    "        next_date_1=next_date.strftime(\"%Y-%m-%d\")\n",
    "        print(f\"Power Consumption on {next_date_1} is {i}.\")\n",
    "    "
   ]
  },
  {
   "cell_type": "code",
   "execution_count": 20,
   "id": "9e651169",
   "metadata": {},
   "outputs": [],
   "source": [
    "# df_10"
   ]
  },
  {
   "cell_type": "code",
   "execution_count": 21,
   "id": "383f4f4b",
   "metadata": {},
   "outputs": [],
   "source": [
    "# df.head(50)\n",
    "# df.tail(50)"
   ]
  },
  {
   "cell_type": "code",
   "execution_count": 22,
   "id": "d465529a",
   "metadata": {},
   "outputs": [],
   "source": [
    "# df.to_csv('~/Downloads/Prediction_1.csv', sep=',',index=True,header=True)"
   ]
  },
  {
   "cell_type": "markdown",
   "id": "c85c5613",
   "metadata": {},
   "source": [
    "## Artificial Neural Network"
   ]
  },
  {
   "cell_type": "code",
   "execution_count": 23,
   "id": "34d4a1b1",
   "metadata": {},
   "outputs": [],
   "source": [
    "from sklearn.neural_network import MLPClassifier\n",
    "from sklearn.neural_network import MLPRegressor"
   ]
  },
  {
   "cell_type": "code",
   "execution_count": 24,
   "id": "61d44836",
   "metadata": {},
   "outputs": [
    {
     "data": {
      "text/plain": [
       "MLPRegressor(max_iter=1000)"
      ]
     },
     "execution_count": 24,
     "metadata": {},
     "output_type": "execute_result"
    },
    {
     "data": {
      "text/plain": [
       "0.027649306626186476"
      ]
     },
     "execution_count": 24,
     "metadata": {},
     "output_type": "execute_result"
    },
    {
     "name": "stdout",
     "output_type": "stream",
     "text": [
      "    Actual  Predicted\n",
      "0      5.8   5.343210\n",
      "1      6.2   5.632925\n",
      "2      5.3   5.601660\n",
      "3      6.4   5.476585\n",
      "4      5.6   5.508682\n",
      "..     ...        ...\n",
      "95     5.8   5.593158\n",
      "96     6.3   5.692999\n",
      "97     5.9   5.552818\n",
      "98     5.7   5.556100\n",
      "99     5.5   5.594678\n",
      "\n",
      "[100 rows x 2 columns]\n"
     ]
    }
   ],
   "source": [
    "model = MLPRegressor(max_iter=1000)\n",
    "\n",
    "model.fit(x_train, y_train)\n",
    "model.score(x_train, y_train)\n",
    "\n",
    "# model.predict(x_test)\n",
    "y_pred = model.predict(x_test)\n",
    "df_preds = pd.DataFrame({'Actual': y_test.squeeze(), 'Predicted': y_pred.squeeze()})\n",
    "print(df_preds)"
   ]
  },
  {
   "cell_type": "code",
   "execution_count": 25,
   "id": "370e7ffa",
   "metadata": {},
   "outputs": [
    {
     "name": "stdout",
     "output_type": "stream",
     "text": [
      "Power Consumption on 2021-03-01 is 5.643863361970197.\n",
      "Power Consumption on 2022-03-01 is 5.676001313612477.\n"
     ]
    }
   ],
   "source": [
    "forecast_set_2 = model.predict(X_lately)\n",
    "df4['Forecast_NN'] = np.nan ## Neural Network\n",
    "\n",
    "last_date = df1.iloc[-1]\n",
    "last_unix = last_date.timestamp()\n",
    "one_day = 86400\n",
    "next_unix = last_unix + one_day\n",
    "\n",
    "for i in forecast_set_2:\n",
    "    next_date = dt.datetime.fromtimestamp(next_unix)\n",
    "    next_unix += 86400\n",
    "    df4.loc[next_date] = [np.nan for _ in range(len(df4.columns)-1)]+[i]\n",
    "    if (next_date.strftime(\"%Y-%m-%d\") == \"2021-03-01\"):\n",
    "        next_date_1=next_date.strftime(\"%Y-%m-%d\")\n",
    "        print(f\"Power Consumption on {next_date_1} is {i}.\")\n",
    "    if (next_date.strftime(\"%Y-%m-%d\") == \"2022-03-01\"):\n",
    "        next_date_1=next_date.strftime(\"%Y-%m-%d\")\n",
    "        print(f\"Power Consumption on {next_date_1} is {i}.\")"
   ]
  },
  {
   "cell_type": "code",
   "execution_count": 26,
   "id": "2d8f2b66",
   "metadata": {},
   "outputs": [],
   "source": [
    "# df.to_csv('~/Downloads/Prediction_2.csv', sep=',',index=True,header=True)"
   ]
  },
  {
   "cell_type": "code",
   "execution_count": 27,
   "id": "d8a800fc",
   "metadata": {},
   "outputs": [
    {
     "data": {
      "text/plain": [
       "[<matplotlib.lines.Line2D at 0x7fa08a53a640>]"
      ]
     },
     "execution_count": 27,
     "metadata": {},
     "output_type": "execute_result"
    },
    {
     "data": {
      "text/plain": [
       "[<matplotlib.lines.Line2D at 0x7fa08a583ca0>]"
      ]
     },
     "execution_count": 27,
     "metadata": {},
     "output_type": "execute_result"
    },
    {
     "data": {
      "image/png": "[encoded data removed]",
      "text/plain": [
       "<Figure size 640x480 with 1 Axes>"
      ]
     },
     "metadata": {},
     "output_type": "display_data"
    }
   ],
   "source": [
    "# df3\n",
    "# df4\n",
    "x = df['Date']\n",
    "y = df['Meghalaya']\n",
    "# plt.plot(x,y)\n",
    "x1 = df3.index\n",
    "y1 = df3['Forecast_LR']\n",
    "plt.plot(x1,y1)\n",
    "x2 = df4.index\n",
    "y2 = df4['Forecast_NN']\n",
    "plt.plot(x2,y2)\n",
    "# df3.plot()\n",
    "# df4.plot()\n",
    "# plt.show()"
   ]
  }
 ],
 "metadata": {
  "kernelspec": {
   "display_name": "Python 3 (ipykernel)",
   "language": "python",
   "name": "python3"
  },
  "language_info": {
   "codemirror_mode": {
    "name": "ipython",
    "version": 3
   },
   "file_extension": ".py",
   "mimetype": "text/x-python",
   "name": "python",
   "nbconvert_exporter": "python",
   "pygments_lexer": "ipython3",
   "version": "3.10.4"
  }
 },
 "nbformat": 4,
 "nbformat_minor": 5
}
