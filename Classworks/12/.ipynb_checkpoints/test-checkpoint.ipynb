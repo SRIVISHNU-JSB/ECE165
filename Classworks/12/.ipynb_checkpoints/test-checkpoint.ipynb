{
 "cells": [
  {
   "cell_type": "code",
   "execution_count": 1,
   "id": "b4ea4b57-96f7-4e06-b216-ae8594d985b6",
   "metadata": {},
   "outputs": [
    {
     "name": "stdout",
     "output_type": "stream",
     "text": [
      "5\n",
      "4\n",
      "3\n",
      "2\n",
      "1\n"
     ]
    }
   ],
   "source": [
    "for i in range(5,0,-1):\n",
    "    print(i)"
   ]
  },
  {
   "cell_type": "code",
   "execution_count": 2,
   "id": "8513e318-dea4-4a89-b6d6-ff3fdf757579",
   "metadata": {},
   "outputs": [
    {
     "name": "stdout",
     "output_type": "stream",
     "text": [
      "('a', 'b', 'c', 'd', 'e', 'f', 'g')\n"
     ]
    }
   ],
   "source": [
    "s1=('a','b','c','d')\n",
    "s2=('e','f','g')\n",
    "s3 = s1 + s2\n",
    "print(s3)"
   ]
  },
  {
   "cell_type": "code",
   "execution_count": 3,
   "id": "f7de3c76-6820-4b52-a781-71ee39795426",
   "metadata": {},
   "outputs": [
    {
     "name": "stdout",
     "output_type": "stream",
     "text": [
      "[120, 90]\n"
     ]
    }
   ],
   "source": [
    "list1=[80,90,100,120]\n",
    "print(list1[::-2])"
   ]
  },
  {
   "cell_type": "code",
   "execution_count": 5,
   "id": "e7c15c71-fa9e-4720-89df-5152dc4b528b",
   "metadata": {},
   "outputs": [
    {
     "name": "stdout",
     "output_type": "stream",
     "text": [
      "10\n",
      "11\n",
      "22\n"
     ]
    }
   ],
   "source": [
    "d = {10: 'r', 11: 'b1', 22: 'c3'}\n",
    "\n",
    "for i in d:\n",
    "    print(i)"
   ]
  },
  {
   "cell_type": "code",
   "execution_count": 7,
   "id": "d81894d8-7bad-4d97-9334-a08bbbb70d6f",
   "metadata": {},
   "outputs": [
    {
     "data": {
      "text/plain": [
       "True"
      ]
     },
     "execution_count": 7,
     "metadata": {},
     "output_type": "execute_result"
    }
   ],
   "source": [
    "0.3+0.4==0.7"
   ]
  },
  {
   "cell_type": "code",
   "execution_count": 8,
   "id": "58351344-d0be-477f-b5c5-f1ebd9c88feb",
   "metadata": {},
   "outputs": [
    {
     "data": {
      "text/plain": [
       "3"
      ]
     },
     "execution_count": 8,
     "metadata": {},
     "output_type": "execute_result"
    }
   ],
   "source": [
    "13//4"
   ]
  }
 ],
 "metadata": {
  "kernelspec": {
   "display_name": "Python 3 (ipykernel)",
   "language": "python",
   "name": "python3"
  },
  "language_info": {
   "codemirror_mode": {
    "name": "ipython",
    "version": 3
   },
   "file_extension": ".py",
   "mimetype": "text/x-python",
   "name": "python",
   "nbconvert_exporter": "python",
   "pygments_lexer": "ipython3",
   "version": "3.10.4"
  }
 },
 "nbformat": 4,
 "nbformat_minor": 5
}
