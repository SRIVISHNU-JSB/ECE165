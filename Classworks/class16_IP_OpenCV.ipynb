{
 "cells": [
  {
   "cell_type": "markdown",
   "id": "b83a1add",
   "metadata": {},
   "source": [
    "## Image Processing - IP using OpenCV"
   ]
  },
  {
   "cell_type": "code",
   "execution_count": 2,
   "id": "05022173",
   "metadata": {},
   "outputs": [],
   "source": [
    "import numpy as np\n",
    "import matplotlib.pyplot as plt"
   ]
  },
  {
   "cell_type": "code",
   "execution_count": 3,
   "id": "fc643160",
   "metadata": {},
   "outputs": [],
   "source": [
    "#conda install -c conda-forge opencv\n",
    "#pip install opencv-python"
   ]
  },
  {
   "cell_type": "code",
   "execution_count": 15,
   "id": "c1b9b6f1",
   "metadata": {},
   "outputs": [],
   "source": [
    "import cv2"
   ]
  },
  {
   "cell_type": "code",
   "execution_count": 7,
   "id": "47b2bb8a",
   "metadata": {},
   "outputs": [
    {
     "data": {
      "text/plain": [
       "(512, 512, 3)"
      ]
     },
     "execution_count": 7,
     "metadata": {},
     "output_type": "execute_result"
    }
   ],
   "source": [
    "img = cv2.imread('/Users/sjsb/Downloads/Lenna.jpeg',1)\n",
    "img.shape"
   ]
  },
  {
   "cell_type": "code",
   "execution_count": 9,
   "id": "0bc02a6a",
   "metadata": {},
   "outputs": [
    {
     "data": {
      "text/plain": [
       "array([[137, 137, 137, 136, 138],\n",
       "       [137, 137, 137, 136, 138],\n",
       "       [137, 137, 137, 136, 138],\n",
       "       [137, 137, 137, 136, 138],\n",
       "       [137, 137, 137, 136, 138]], dtype=uint8)"
      ]
     },
     "execution_count": 9,
     "metadata": {},
     "output_type": "execute_result"
    }
   ],
   "source": [
    "img[:5, :5, 1]"
   ]
  },
  {
   "cell_type": "code",
   "execution_count": 24,
   "id": "5a060c09",
   "metadata": {},
   "outputs": [
    {
     "data": {
      "text/plain": [
       "(512, 512)"
      ]
     },
     "execution_count": 24,
     "metadata": {},
     "output_type": "execute_result"
    }
   ],
   "source": [
    "# img1 = cv2.imread('/Users/sjsb/Downloads/Lenna.jpeg',0)\n",
    "# img1 = cv2.imread('/Users/sjsb/Downloads/lenna_gray.jpg',0)\n",
    "img1 = cv2.imread('/Users/sjsb/Downloads/lenna_gray.png',0)\n",
    "img1.shape"
   ]
  },
  {
   "cell_type": "code",
   "execution_count": 25,
   "id": "7a470f4f",
   "metadata": {},
   "outputs": [
    {
     "data": {
      "text/plain": [
       "(512, 512, 3)"
      ]
     },
     "execution_count": 25,
     "metadata": {},
     "output_type": "execute_result"
    }
   ],
   "source": [
    "img2 = cv2.imread('/Users/sjsb/Downloads/lenna_color.png',1)\n",
    "img2.shape"
   ]
  },
  {
   "cell_type": "code",
   "execution_count": 30,
   "id": "8f39619a",
   "metadata": {},
   "outputs": [
    {
     "data": {
      "text/plain": [
       "array([[121, 121, 129, 121, 121],\n",
       "       [121, 121, 129, 121, 121],\n",
       "       [121, 121, 129, 121, 121],\n",
       "       [121, 121, 129, 121, 121],\n",
       "       [121, 121, 129, 121, 121]], dtype=uint8)"
      ]
     },
     "execution_count": 30,
     "metadata": {},
     "output_type": "execute_result"
    },
    {
     "data": {
      "text/plain": [
       "array([[133, 133, 137, 133, 133],\n",
       "       [133, 133, 137, 133, 133],\n",
       "       [133, 133, 137, 133, 133],\n",
       "       [133, 133, 137, 133, 133],\n",
       "       [133, 133, 137, 133, 133]], dtype=uint8)"
      ]
     },
     "execution_count": 30,
     "metadata": {},
     "output_type": "execute_result"
    },
    {
     "data": {
      "text/plain": [
       "array([[222, 222, 226, 222, 222],\n",
       "       [222, 222, 226, 222, 222],\n",
       "       [222, 222, 226, 222, 222],\n",
       "       [222, 222, 226, 222, 222],\n",
       "       [222, 222, 226, 222, 222]], dtype=uint8)"
      ]
     },
     "execution_count": 30,
     "metadata": {},
     "output_type": "execute_result"
    }
   ],
   "source": [
    "img2[:5, :5, 0]\n",
    "img2[:5, :5, 1]\n",
    "img2[:5, :5, 2]"
   ]
  },
  {
   "cell_type": "code",
   "execution_count": null,
   "id": "ff833d16",
   "metadata": {},
   "outputs": [],
   "source": [
    "win_img = img2"
   ]
  },
  {
   "cell_type": "code",
   "execution_count": null,
   "id": "b484c936",
   "metadata": {},
   "outputs": [],
   "source": [
    "cv2.imshow('win_img', img2)"
   ]
  }
 ],
 "metadata": {
  "kernelspec": {
   "display_name": "Python 3 (ipykernel)",
   "language": "python",
   "name": "python3"
  },
  "language_info": {
   "codemirror_mode": {
    "name": "ipython",
    "version": 3
   },
   "file_extension": ".py",
   "mimetype": "text/x-python",
   "name": "python",
   "nbconvert_exporter": "python",
   "pygments_lexer": "ipython3",
   "version": "3.9.12"
  }
 },
 "nbformat": 4,
 "nbformat_minor": 5
}
