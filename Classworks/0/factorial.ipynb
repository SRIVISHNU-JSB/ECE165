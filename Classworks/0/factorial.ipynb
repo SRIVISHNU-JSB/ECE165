{
 "cells": [
  {
   "cell_type": "code",
   "execution_count": 15,
   "id": "e04d498d",
   "metadata": {},
   "outputs": [
    {
     "name": "stdout",
     "output_type": "stream",
     "text": [
      "720\n"
     ]
    }
   ],
   "source": [
    "def factn(n):\n",
    "    i = 1; fact = 1\n",
    "    while (i<=n):\n",
    "        fact  = fact*i\n",
    "        i = i+1\n",
    "    print(fact)\n",
    "factn(6)"
   ]
  },
  {
   "cell_type": "code",
   "execution_count": null,
   "id": "f28f50e0",
   "metadata": {},
   "outputs": [],
   "source": []
  }
 ],
 "metadata": {
  "kernelspec": {
   "display_name": "Python 3 (ipykernel)",
   "language": "python",
   "name": "python3"
  },
  "language_info": {
   "codemirror_mode": {
    "name": "ipython",
    "version": 3
   },
   "file_extension": ".py",
   "mimetype": "text/x-python",
   "name": "python",
   "nbconvert_exporter": "python",
   "pygments_lexer": "ipython3",
   "version": "3.9.12"
  }
 },
 "nbformat": 4,
 "nbformat_minor": 5
}
