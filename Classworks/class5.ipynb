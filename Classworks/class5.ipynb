{
 "cells": [
  {
   "cell_type": "markdown",
   "id": "b4aa1bcb",
   "metadata": {},
   "source": [
    "### Review of Functions with Arguments\n"
   ]
  },
  {
   "cell_type": "code",
   "execution_count": 1,
   "id": "2e8253e6",
   "metadata": {},
   "outputs": [
    {
     "name": "stdout",
     "output_type": "stream",
     "text": [
      "2 9 5\n"
     ]
    }
   ],
   "source": [
    "def test(a, b=4, c=5):\n",
    "    print(a, b, c)\n",
    "test(2,9)"
   ]
  },
  {
   "cell_type": "markdown",
   "id": "4f42316f",
   "metadata": {},
   "source": [
    "###  Math Functions\n",
    "These can be used in python by importing module \"math\""
   ]
  },
  {
   "cell_type": "code",
   "execution_count": 5,
   "id": "731a4186",
   "metadata": {},
   "outputs": [
    {
     "data": {
      "text/plain": [
       "-0.5984600690578581"
      ]
     },
     "execution_count": 5,
     "metadata": {},
     "output_type": "execute_result"
    }
   ],
   "source": [
    "import math\n",
    "\n",
    "math.cos(30)"
   ]
  },
  {
   "cell_type": "markdown",
   "id": "b09d7efb",
   "metadata": {},
   "source": [
    "### MathStatisticString_Operations_InClass"
   ]
  },
  {
   "cell_type": "code",
   "execution_count": 16,
   "id": "57893434",
   "metadata": {},
   "outputs": [
    {
     "data": {
      "text/plain": [
       "3"
      ]
     },
     "execution_count": 16,
     "metadata": {},
     "output_type": "execute_result"
    }
   ],
   "source": [
    "a = 3.2\n",
    "#highest upper value which is 4\n",
    "math.ceil(a)\n",
    "#nearst lower value which is 3\n",
    "math.floor(a)"
   ]
  },
  {
   "cell_type": "code",
   "execution_count": 24,
   "id": "e1720945",
   "metadata": {},
   "outputs": [
    {
     "name": "stdout",
     "output_type": "stream",
     "text": [
      "4\n"
     ]
    },
    {
     "data": {
      "text/plain": [
       "8.5"
      ]
     },
     "execution_count": 24,
     "metadata": {},
     "output_type": "execute_result"
    }
   ],
   "source": [
    "a = 3.2\n",
    "#rounding the value to the nearst value\n",
    "print(round(a))\n",
    "sum([a, 5])"
   ]
  },
  {
   "cell_type": "code",
   "execution_count": 25,
   "id": "ddad21d6",
   "metadata": {},
   "outputs": [
    {
     "data": {
      "text/plain": [
       "5"
      ]
     },
     "execution_count": 25,
     "metadata": {},
     "output_type": "execute_result"
    }
   ],
   "source": [
    "#absolute value\n",
    "math.fabs(a)\n",
    "math.gcd(5,10,20)"
   ]
  },
  {
   "cell_type": "code",
   "execution_count": 26,
   "id": "47be114f",
   "metadata": {},
   "outputs": [
    {
     "data": {
      "text/plain": [
       "20"
      ]
     },
     "execution_count": 26,
     "metadata": {},
     "output_type": "execute_result"
    }
   ],
   "source": [
    "math.lcm(5,10,20)"
   ]
  },
  {
   "cell_type": "code",
   "execution_count": 28,
   "id": "df66e9a4",
   "metadata": {
    "scrolled": true
   },
   "outputs": [
    {
     "data": {
      "text/plain": [
       "5"
      ]
     },
     "execution_count": 28,
     "metadata": {},
     "output_type": "execute_result"
    }
   ],
   "source": [
    "math.gcd(5,10,20)"
   ]
  },
  {
   "cell_type": "code",
   "execution_count": 31,
   "id": "a0f6aac4",
   "metadata": {},
   "outputs": [
    {
     "name": "stdout",
     "output_type": "stream",
     "text": [
      "-3.5\n"
     ]
    }
   ],
   "source": [
    "a=math.copysign(a,-2)\n",
    "print(a)"
   ]
  },
  {
   "cell_type": "code",
   "execution_count": 30,
   "id": "4ddff88b",
   "metadata": {},
   "outputs": [
    {
     "data": {
      "text/plain": [
       "24"
      ]
     },
     "execution_count": 30,
     "metadata": {},
     "output_type": "execute_result"
    }
   ],
   "source": [
    "math.factorial(4)"
   ]
  },
  {
   "cell_type": "markdown",
   "id": "2992d892",
   "metadata": {},
   "source": [
    "### Math Functions in Python\n",
    "https://docs.python.org/3/library/math.html\n"
   ]
  },
  {
   "cell_type": "code",
   "execution_count": 32,
   "id": "f3e2b537",
   "metadata": {},
   "outputs": [
    {
     "data": {
      "text/plain": [
       "3.0"
      ]
     },
     "execution_count": 32,
     "metadata": {},
     "output_type": "execute_result"
    }
   ],
   "source": [
    "math.fmod(10,7)"
   ]
  },
  {
   "cell_type": "code",
   "execution_count": 39,
   "id": "9caf1d39",
   "metadata": {},
   "outputs": [
    {
     "data": {
      "text/plain": [
       "(0.543125, 3)"
      ]
     },
     "execution_count": 39,
     "metadata": {},
     "output_type": "execute_result"
    }
   ],
   "source": [
    "math.frexp(4.345)"
   ]
  },
  {
   "cell_type": "code",
   "execution_count": 40,
   "id": "59c7f666",
   "metadata": {},
   "outputs": [
    {
     "data": {
      "text/plain": [
       "4.345"
      ]
     },
     "execution_count": 40,
     "metadata": {},
     "output_type": "execute_result"
    }
   ],
   "source": [
    "0.543125*(2**3)"
   ]
  },
  {
   "cell_type": "code",
   "execution_count": 41,
   "id": "8bc62323",
   "metadata": {},
   "outputs": [
    {
     "data": {
      "text/plain": [
       "0.9999999999999999"
      ]
     },
     "execution_count": 41,
     "metadata": {},
     "output_type": "execute_result"
    }
   ],
   "source": [
    "sum([0.1,.1,.1,.1,.1,.1,.1,.1,.1,.1])"
   ]
  },
  {
   "cell_type": "code",
   "execution_count": 44,
   "id": "e20f1481",
   "metadata": {},
   "outputs": [
    {
     "data": {
      "text/plain": [
       "1.0"
      ]
     },
     "execution_count": 44,
     "metadata": {},
     "output_type": "execute_result"
    }
   ],
   "source": [
    "math.fsum([0.1,.1,.1,.1,.1,.1,.1,.1,.1,.1])"
   ]
  },
  {
   "cell_type": "code",
   "execution_count": 46,
   "id": "fa5ba043",
   "metadata": {},
   "outputs": [
    {
     "data": {
      "text/plain": [
       "2.5"
      ]
     },
     "execution_count": 46,
     "metadata": {},
     "output_type": "execute_result"
    }
   ],
   "source": [
    "math.sqrt(6.25)"
   ]
  },
  {
   "cell_type": "code",
   "execution_count": 47,
   "id": "6d224fbd",
   "metadata": {},
   "outputs": [
    {
     "data": {
      "text/plain": [
       "0.5253219888177297"
      ]
     },
     "execution_count": 47,
     "metadata": {},
     "output_type": "execute_result"
    }
   ],
   "source": [
    "math.cos(45)"
   ]
  },
  {
   "cell_type": "code",
   "execution_count": 51,
   "id": "f8ebfe8d",
   "metadata": {},
   "outputs": [],
   "source": [
    "r=math.radians(45)"
   ]
  },
  {
   "cell_type": "code",
   "execution_count": 53,
   "id": "63b1b14b",
   "metadata": {},
   "outputs": [
    {
     "data": {
      "text/plain": [
       "0.7071067811865476"
      ]
     },
     "execution_count": 53,
     "metadata": {},
     "output_type": "execute_result"
    }
   ],
   "source": [
    "math.cos(r)"
   ]
  },
  {
   "cell_type": "code",
   "execution_count": 54,
   "id": "33f52510",
   "metadata": {},
   "outputs": [
    {
     "data": {
      "text/plain": [
       "0.7853981633974483"
      ]
     },
     "execution_count": 54,
     "metadata": {},
     "output_type": "execute_result"
    }
   ],
   "source": [
    "math.acos(0.7071067811865476)"
   ]
  },
  {
   "cell_type": "code",
   "execution_count": 55,
   "id": "c1583c4a",
   "metadata": {},
   "outputs": [
    {
     "data": {
      "text/plain": [
       "45.0"
      ]
     },
     "execution_count": 55,
     "metadata": {},
     "output_type": "execute_result"
    }
   ],
   "source": [
    "math.degrees(0.7853981633974483)"
   ]
  },
  {
   "cell_type": "code",
   "execution_count": 56,
   "id": "ff24f7d8",
   "metadata": {},
   "outputs": [
    {
     "data": {
      "text/plain": [
       "(0.8832, -8)"
      ]
     },
     "execution_count": 56,
     "metadata": {},
     "output_type": "execute_result"
    }
   ],
   "source": [
    "math.frexp(0.00345)"
   ]
  },
  {
   "cell_type": "code",
   "execution_count": 58,
   "id": "14c7372f",
   "metadata": {},
   "outputs": [
    {
     "data": {
      "text/plain": [
       "0.00345"
      ]
     },
     "execution_count": 58,
     "metadata": {},
     "output_type": "execute_result"
    }
   ],
   "source": [
    "math.ldexp(0.8832, -8)"
   ]
  },
  {
   "cell_type": "code",
   "execution_count": 59,
   "id": "81febecc",
   "metadata": {},
   "outputs": [
    {
     "data": {
      "text/plain": [
       "24"
      ]
     },
     "execution_count": 59,
     "metadata": {},
     "output_type": "execute_result"
    }
   ],
   "source": [
    "math.prod([2,3,4])"
   ]
  },
  {
   "cell_type": "code",
   "execution_count": 61,
   "id": "7c1c9517",
   "metadata": {},
   "outputs": [
    {
     "data": {
      "text/plain": [
       "7.38905609893065"
      ]
     },
     "execution_count": 61,
     "metadata": {},
     "output_type": "execute_result"
    }
   ],
   "source": [
    "math.exp(2)"
   ]
  },
  {
   "cell_type": "code",
   "execution_count": 62,
   "id": "57f7e87e",
   "metadata": {},
   "outputs": [
    {
     "data": {
      "text/plain": [
       "6.38905609893065"
      ]
     },
     "execution_count": 62,
     "metadata": {},
     "output_type": "execute_result"
    }
   ],
   "source": [
    "math.expm1(2)"
   ]
  },
  {
   "cell_type": "code",
   "execution_count": null,
   "id": "05abc388",
   "metadata": {},
   "outputs": [],
   "source": [
    "math.log(2)"
   ]
  },
  {
   "cell_type": "code",
   "execution_count": 68,
   "id": "5bb6772b",
   "metadata": {},
   "outputs": [
    {
     "data": {
      "text/plain": [
       "1.0"
      ]
     },
     "execution_count": 68,
     "metadata": {},
     "output_type": "execute_result"
    }
   ],
   "source": [
    "math.log(2,2)\n",
    "math.log2(2)"
   ]
  },
  {
   "cell_type": "code",
   "execution_count": 72,
   "id": "2f3028f2",
   "metadata": {},
   "outputs": [
    {
     "data": {
      "text/plain": [
       "0.3010299956639812"
      ]
     },
     "execution_count": 72,
     "metadata": {},
     "output_type": "execute_result"
    }
   ],
   "source": [
    "math.log(2,10)\n",
    "math.log10(2)"
   ]
  },
  {
   "cell_type": "code",
   "execution_count": 76,
   "id": "5546be0c",
   "metadata": {},
   "outputs": [
    {
     "data": {
      "text/plain": [
       "1.0986122886681098"
      ]
     },
     "execution_count": 76,
     "metadata": {},
     "output_type": "execute_result"
    }
   ],
   "source": [
    "math.log1p(0)"
   ]
  },
  {
   "cell_type": "code",
   "execution_count": 74,
   "id": "a3c7e8ba",
   "metadata": {
    "scrolled": true
   },
   "outputs": [
    {
     "ename": "ValueError",
     "evalue": "math domain error",
     "output_type": "error",
     "traceback": [
      "\u001b[0;31m---------------------------------------------------------------------------\u001b[0m",
      "\u001b[0;31mValueError\u001b[0m                                Traceback (most recent call last)",
      "Input \u001b[0;32mIn [74]\u001b[0m, in \u001b[0;36m<cell line: 1>\u001b[0;34m()\u001b[0m\n\u001b[0;32m----> 1\u001b[0m \u001b[43mmath\u001b[49m\u001b[38;5;241;43m.\u001b[39;49m\u001b[43mlog\u001b[49m\u001b[43m(\u001b[49m\u001b[38;5;241;43m0\u001b[39;49m\u001b[43m)\u001b[49m\n",
      "\u001b[0;31mValueError\u001b[0m: math domain error"
     ]
    }
   ],
   "source": [
    "math.log(0)"
   ]
  },
  {
   "cell_type": "code",
   "execution_count": 79,
   "id": "624ddd10",
   "metadata": {},
   "outputs": [
    {
     "data": {
      "text/plain": [
       "0.0"
      ]
     },
     "execution_count": 79,
     "metadata": {},
     "output_type": "execute_result"
    }
   ],
   "source": [
    "math.log(1)"
   ]
  },
  {
   "cell_type": "code",
   "execution_count": 80,
   "id": "9df72f5b",
   "metadata": {},
   "outputs": [],
   "source": [
    "import statistics as stat"
   ]
  },
  {
   "cell_type": "code",
   "execution_count": 84,
   "id": "46e0cb2d",
   "metadata": {},
   "outputs": [
    {
     "data": {
      "text/plain": [
       "3.5"
      ]
     },
     "execution_count": 84,
     "metadata": {},
     "output_type": "execute_result"
    }
   ],
   "source": [
    "stat.mean([2,3,4,5])"
   ]
  },
  {
   "cell_type": "code",
   "execution_count": 85,
   "id": "267bdeb2",
   "metadata": {
    "scrolled": true
   },
   "outputs": [
    {
     "data": {
      "text/plain": [
       "3"
      ]
     },
     "execution_count": 85,
     "metadata": {},
     "output_type": "execute_result"
    }
   ],
   "source": [
    "stat.median([1,2,3,3,4])"
   ]
  },
  {
   "cell_type": "code",
   "execution_count": 86,
   "id": "1505a663",
   "metadata": {},
   "outputs": [
    {
     "data": {
      "text/plain": [
       "2"
      ]
     },
     "execution_count": 86,
     "metadata": {},
     "output_type": "execute_result"
    }
   ],
   "source": [
    "stat.mode([1,2,3,4,2,3])"
   ]
  },
  {
   "cell_type": "code",
   "execution_count": 87,
   "id": "b908fc68",
   "metadata": {},
   "outputs": [
    {
     "data": {
      "text/plain": [
       "[2, 3]"
      ]
     },
     "execution_count": 87,
     "metadata": {},
     "output_type": "execute_result"
    }
   ],
   "source": [
    "stat.multimode([1,2,3,4,2,3])"
   ]
  },
  {
   "cell_type": "code",
   "execution_count": 88,
   "id": "454cfc18",
   "metadata": {},
   "outputs": [
    {
     "data": {
      "text/plain": [
       "2.5"
      ]
     },
     "execution_count": 88,
     "metadata": {},
     "output_type": "execute_result"
    }
   ],
   "source": [
    "stat.median([1,2,3,5])"
   ]
  },
  {
   "cell_type": "code",
   "execution_count": 89,
   "id": "2e121a94",
   "metadata": {},
   "outputs": [
    {
     "data": {
      "text/plain": [
       "2"
      ]
     },
     "execution_count": 89,
     "metadata": {},
     "output_type": "execute_result"
    }
   ],
   "source": [
    "stat.median_low([1,2,3,5])"
   ]
  },
  {
   "cell_type": "code",
   "execution_count": 90,
   "id": "6561d8aa",
   "metadata": {},
   "outputs": [
    {
     "data": {
      "text/plain": [
       "3"
      ]
     },
     "execution_count": 90,
     "metadata": {},
     "output_type": "execute_result"
    }
   ],
   "source": [
    "stat.median_high([1,2,3,5])"
   ]
  },
  {
   "cell_type": "code",
   "execution_count": 93,
   "id": "de9aa7a4",
   "metadata": {},
   "outputs": [
    {
     "data": {
      "text/plain": [
       "3.0"
      ]
     },
     "execution_count": 93,
     "metadata": {},
     "output_type": "execute_result"
    }
   ],
   "source": [
    "stat.fmean([1,2,3,4,5])"
   ]
  },
  {
   "cell_type": "code",
   "execution_count": 94,
   "id": "038077d8",
   "metadata": {},
   "outputs": [
    {
     "data": {
      "text/plain": [
       "3"
      ]
     },
     "execution_count": 94,
     "metadata": {},
     "output_type": "execute_result"
    }
   ],
   "source": [
    "stat.mean([1,2,3,4,5])"
   ]
  },
  {
   "cell_type": "code",
   "execution_count": 96,
   "id": "9c77c13d",
   "metadata": {},
   "outputs": [
    {
     "data": {
      "text/plain": [
       "2.8844991406148166"
      ]
     },
     "execution_count": 96,
     "metadata": {},
     "output_type": "execute_result"
    }
   ],
   "source": [
    "stat.geometric_mean([2,3,4])"
   ]
  },
  {
   "cell_type": "code",
   "execution_count": 97,
   "id": "7f026a7f",
   "metadata": {},
   "outputs": [
    {
     "data": {
      "text/plain": [
       "2.8844991406148166"
      ]
     },
     "execution_count": 97,
     "metadata": {},
     "output_type": "execute_result"
    }
   ],
   "source": [
    "(2*3*4)**(1/3)"
   ]
  },
  {
   "cell_type": "code",
   "execution_count": 119,
   "id": "8013fd5e",
   "metadata": {},
   "outputs": [
    {
     "ename": "TypeError",
     "evalue": "harmonic_mean() takes 1 positional argument but 2 were given",
     "output_type": "error",
     "traceback": [
      "\u001b[0;31m---------------------------------------------------------------------------\u001b[0m",
      "\u001b[0;31mTypeError\u001b[0m                                 Traceback (most recent call last)",
      "Input \u001b[0;32mIn [119]\u001b[0m, in \u001b[0;36m<cell line: 3>\u001b[0;34m()\u001b[0m\n\u001b[1;32m      1\u001b[0m credits \u001b[38;5;241m=\u001b[39m [\u001b[38;5;241m3\u001b[39m, \u001b[38;5;241m4\u001b[39m, \u001b[38;5;241m3\u001b[39m, \u001b[38;5;241m2\u001b[39m]\n\u001b[1;32m      2\u001b[0m grads \u001b[38;5;241m=\u001b[39m [\u001b[38;5;241m8\u001b[39m, \u001b[38;5;241m10\u001b[39m, \u001b[38;5;241m8\u001b[39m, \u001b[38;5;241m8\u001b[39m]\n\u001b[0;32m----> 3\u001b[0m \u001b[43mstat\u001b[49m\u001b[38;5;241;43m.\u001b[39;49m\u001b[43mharmonic_mean\u001b[49m\u001b[43m(\u001b[49m\u001b[43mgrads\u001b[49m\u001b[43m,\u001b[49m\u001b[43m \u001b[49m\u001b[43mcredits\u001b[49m\u001b[43m)\u001b[49m\n",
      "\u001b[0;31mTypeError\u001b[0m: harmonic_mean() takes 1 positional argument but 2 were given"
     ]
    }
   ],
   "source": [
    "credits = [3, 4, 3, 2]\n",
    "grads = [8, 10, 8, 8]\n",
    "stat.harmonic_mean(grads, credits)"
   ]
  },
  {
   "cell_type": "code",
   "execution_count": 103,
   "id": "9c5f3f23",
   "metadata": {},
   "outputs": [],
   "source": [
    "data=[44, 55, 67, 88, 78, 25, 125, 188]"
   ]
  },
  {
   "cell_type": "code",
   "execution_count": 109,
   "id": "7de9d9a4",
   "metadata": {},
   "outputs": [],
   "source": [
    "import matplotlib.pyplot as plt"
   ]
  },
  {
   "cell_type": "code",
   "execution_count": 117,
   "id": "475d036c",
   "metadata": {},
   "outputs": [
    {
     "data": {
      "text/plain": [
       "(array([1., 2., 1., 2., 0., 0., 1., 0., 0., 1.]),\n",
       " array([ 25. ,  41.3,  57.6,  73.9,  90.2, 106.5, 122.8, 139.1, 155.4,\n",
       "        171.7, 188. ]),\n",
       " <BarContainer object of 10 artists>)"
      ]
     },
     "execution_count": 117,
     "metadata": {},
     "output_type": "execute_result"
    },
    {
     "data": {
      "image/png": "[encoded data removed]",
      "text/plain": [
       "<Figure size 432x288 with 1 Axes>"
      ]
     },
     "metadata": {
      "needs_background": "light"
     },
     "output_type": "display_data"
    }
   ],
   "source": [
    "plt.hist(data)"
   ]
  },
  {
   "cell_type": "code",
   "execution_count": 116,
   "id": "2da7b956",
   "metadata": {},
   "outputs": [],
   "source": [
    "b=stat.quantiles(data, n=10)"
   ]
  },
  {
   "cell_type": "code",
   "execution_count": 115,
   "id": "146ba44d",
   "metadata": {},
   "outputs": [
    {
     "data": {
      "text/plain": [
       "(array([2., 2.]),\n",
       " array([ 46.75,  72.5 , 115.75]),\n",
       " <BarContainer object of 2 artists>)"
      ]
     },
     "execution_count": 115,
     "metadata": {},
     "output_type": "execute_result"
    },
    {
     "data": {
      "image/png": "[encoded data removed]",
      "text/plain": [
       "<Figure size 432x288 with 1 Axes>"
      ]
     },
     "metadata": {
      "needs_background": "light"
     },
     "output_type": "display_data"
    }
   ],
   "source": [
    "plt.hist(data, bins=b)"
   ]
  },
  {
   "cell_type": "markdown",
   "id": "3cad9c02",
   "metadata": {},
   "source": [
    "### String Methods\n",
    "### All the types in python are basically a class\n",
    "### string() class and capitalize(), upper() and so on...\n"
   ]
  },
  {
   "cell_type": "code",
   "execution_count": 145,
   "id": "1a841e33",
   "metadata": {},
   "outputs": [
    {
     "name": "stdout",
     "output_type": "stream",
     "text": [
      "India is great.\n",
      "INDIA IS GREAT.\n"
     ]
    },
    {
     "data": {
      "text/plain": [
       "str"
      ]
     },
     "execution_count": 145,
     "metadata": {},
     "output_type": "execute_result"
    }
   ],
   "source": [
    "name = \"india is great.\"\n",
    "capName = name.capitalize()\n",
    "print(capName)\n",
    "upperName = name.upper()\n",
    "print(upperName)\n",
    "type(name)"
   ]
  },
  {
   "cell_type": "code",
   "execution_count": 139,
   "id": "bda6f26d",
   "metadata": {},
   "outputs": [],
   "source": [
    "name = \"planet earth is great\""
   ]
  },
  {
   "cell_type": "code",
   "execution_count": 130,
   "id": "d1bcefa9",
   "metadata": {},
   "outputs": [
    {
     "data": {
      "text/plain": [
       "'India is great.'"
      ]
     },
     "execution_count": 130,
     "metadata": {},
     "output_type": "execute_result"
    }
   ],
   "source": [
    "name.capitalize()"
   ]
  },
  {
   "cell_type": "code",
   "execution_count": 133,
   "id": "f188443b",
   "metadata": {},
   "outputs": [],
   "source": [
    "b = name.upper()"
   ]
  },
  {
   "cell_type": "code",
   "execution_count": 134,
   "id": "5f30035f",
   "metadata": {},
   "outputs": [
    {
     "data": {
      "text/plain": [
       "'india is great.'"
      ]
     },
     "execution_count": 134,
     "metadata": {},
     "output_type": "execute_result"
    }
   ],
   "source": [
    "b.lower()"
   ]
  },
  {
   "cell_type": "code",
   "execution_count": 135,
   "id": "2203e3de",
   "metadata": {},
   "outputs": [
    {
     "data": {
      "text/plain": [
       "3"
      ]
     },
     "execution_count": 135,
     "metadata": {},
     "output_type": "execute_result"
    }
   ],
   "source": [
    "name.count('i')"
   ]
  },
  {
   "cell_type": "code",
   "execution_count": 136,
   "id": "55ab973f",
   "metadata": {},
   "outputs": [
    {
     "data": {
      "text/plain": [
       "16"
      ]
     },
     "execution_count": 136,
     "metadata": {},
     "output_type": "execute_result"
    }
   ],
   "source": [
    "name.count('')"
   ]
  },
  {
   "cell_type": "code",
   "execution_count": 137,
   "id": "31da021c",
   "metadata": {},
   "outputs": [
    {
     "data": {
      "text/plain": [
       "'india is great.'"
      ]
     },
     "execution_count": 137,
     "metadata": {},
     "output_type": "execute_result"
    }
   ],
   "source": [
    "name.casefold()"
   ]
  },
  {
   "cell_type": "code",
   "execution_count": 147,
   "id": "023f5762",
   "metadata": {},
   "outputs": [
    {
     "data": {
      "text/plain": [
       "True"
      ]
     },
     "execution_count": 147,
     "metadata": {},
     "output_type": "execute_result"
    }
   ],
   "source": [
    "name.endswith('.')"
   ]
  },
  {
   "cell_type": "code",
   "execution_count": 148,
   "id": "a543ea10",
   "metadata": {},
   "outputs": [
    {
     "data": {
      "text/plain": [
       "7"
      ]
     },
     "execution_count": 148,
     "metadata": {},
     "output_type": "execute_result"
    }
   ],
   "source": [
    "name.find('s')"
   ]
  },
  {
   "cell_type": "code",
   "execution_count": 146,
   "id": "166f876c",
   "metadata": {},
   "outputs": [
    {
     "data": {
      "text/plain": [
       "4"
      ]
     },
     "execution_count": 146,
     "metadata": {},
     "output_type": "execute_result"
    }
   ],
   "source": [
    "name.find('a')"
   ]
  },
  {
   "cell_type": "code",
   "execution_count": 149,
   "id": "ce2f161c",
   "metadata": {},
   "outputs": [
    {
     "data": {
      "text/plain": [
       "4"
      ]
     },
     "execution_count": 149,
     "metadata": {},
     "output_type": "execute_result"
    }
   ],
   "source": [
    "name.index('a')"
   ]
  },
  {
   "cell_type": "code",
   "execution_count": 150,
   "id": "f2dc422f",
   "metadata": {},
   "outputs": [
    {
     "data": {
      "text/plain": [
       "12"
      ]
     },
     "execution_count": 150,
     "metadata": {},
     "output_type": "execute_result"
    }
   ],
   "source": [
    "name.rfind('a')"
   ]
  },
  {
   "cell_type": "code",
   "execution_count": 155,
   "id": "596c9c32",
   "metadata": {},
   "outputs": [
    {
     "data": {
      "text/plain": [
       "['india', 'is', 'great.']"
      ]
     },
     "execution_count": 155,
     "metadata": {},
     "output_type": "execute_result"
    }
   ],
   "source": [
    "name.split(' ')"
   ]
  },
  {
   "cell_type": "code",
   "execution_count": 156,
   "id": "fafe8fc5",
   "metadata": {},
   "outputs": [
    {
     "data": {
      "text/plain": [
       "('india', ' ', 'is great.')"
      ]
     },
     "execution_count": 156,
     "metadata": {},
     "output_type": "execute_result"
    }
   ],
   "source": [
    "name.partition(' ')"
   ]
  },
  {
   "cell_type": "code",
   "execution_count": 157,
   "id": "af4db5b0",
   "metadata": {},
   "outputs": [
    {
     "data": {
      "text/plain": [
       "('india is', ' ', 'great.')"
      ]
     },
     "execution_count": 157,
     "metadata": {},
     "output_type": "execute_result"
    }
   ],
   "source": [
    "name.rpartition(' ')"
   ]
  },
  {
   "cell_type": "code",
   "execution_count": 158,
   "id": "621b6b0f",
   "metadata": {},
   "outputs": [
    {
     "data": {
      "text/plain": [
       "False"
      ]
     },
     "execution_count": 158,
     "metadata": {},
     "output_type": "execute_result"
    }
   ],
   "source": [
    "name.isalpha()"
   ]
  },
  {
   "cell_type": "code",
   "execution_count": 159,
   "id": "200c1834",
   "metadata": {},
   "outputs": [
    {
     "data": {
      "text/plain": [
       "False"
      ]
     },
     "execution_count": 159,
     "metadata": {},
     "output_type": "execute_result"
    }
   ],
   "source": [
    "name.isalnum()"
   ]
  },
  {
   "cell_type": "code",
   "execution_count": 160,
   "id": "d9a7ba05",
   "metadata": {},
   "outputs": [
    {
     "data": {
      "text/plain": [
       "True"
      ]
     },
     "execution_count": 160,
     "metadata": {},
     "output_type": "execute_result"
    }
   ],
   "source": [
    "name.islower()"
   ]
  }
 ],
 "metadata": {
  "kernelspec": {
   "display_name": "Python 3 (ipykernel)",
   "language": "python",
   "name": "python3"
  },
  "language_info": {
   "codemirror_mode": {
    "name": "ipython",
    "version": 3
   },
   "file_extension": ".py",
   "mimetype": "text/x-python",
   "name": "python",
   "nbconvert_exporter": "python",
   "pygments_lexer": "ipython3",
   "version": "3.9.12"
  }
 },
 "nbformat": 4,
 "nbformat_minor": 5
}
