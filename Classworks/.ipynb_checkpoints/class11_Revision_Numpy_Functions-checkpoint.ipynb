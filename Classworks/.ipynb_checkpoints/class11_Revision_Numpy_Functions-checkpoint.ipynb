{
 "cells": [
  {
   "cell_type": "markdown",
   "id": "559fde81",
   "metadata": {},
   "source": [
    "## Revision"
   ]
  },
  {
   "cell_type": "code",
   "execution_count": 4,
   "id": "1e1508bc",
   "metadata": {},
   "outputs": [],
   "source": [
    "# To make all the variables visible in the outputs\n",
    "from IPython.core.interactiveshell import InteractiveShell\n",
    "InteractiveShell.ast_node_interactivity = \"all\""
   ]
  },
  {
   "cell_type": "markdown",
   "id": "2d8c0905",
   "metadata": {},
   "source": [
    "### Given\n",
    "Q. 3 Given a = [1, 2, 3, 5, 7, 13]. Do the following operations with a using at least two different methods/codes:\n",
    "a. Add 17 as the last element in a\n",
    "b. Insert 9 between 7 and 13\n",
    "c. remove 1 and the 4th lement in a\n",
    "d. Create another list of square of all the numbers\n",
    "e. Sum all the numbers in the list a. (Implement with and without function) \n",
    "f. Find the maximum number in the list\n",
    "g. Count the number of elements not divisible by 2 and 3 both."
   ]
  },
  {
   "cell_type": "markdown",
   "id": "f93a2b07",
   "metadata": {},
   "source": [
    "#### a. Add 17 as the last element in a"
   ]
  },
  {
   "cell_type": "code",
   "execution_count": 75,
   "id": "7c072c3a",
   "metadata": {},
   "outputs": [],
   "source": [
    "a = [1, 2, 3, 5, 7, 13]"
   ]
  },
  {
   "cell_type": "code",
   "execution_count": 36,
   "id": "31acbaba",
   "metadata": {},
   "outputs": [
    {
     "data": {
      "text/plain": [
       "[1, 2, 3, 5, 7, 13]"
      ]
     },
     "execution_count": 36,
     "metadata": {},
     "output_type": "execute_result"
    },
    {
     "data": {
      "text/plain": [
       "[1, 2, 3, 5, 7, 13, 17]"
      ]
     },
     "execution_count": 36,
     "metadata": {},
     "output_type": "execute_result"
    }
   ],
   "source": [
    "# a.append(17)\n",
    "a\n",
    "a.insert(len(a),17)\n",
    "a"
   ]
  },
  {
   "cell_type": "code",
   "execution_count": 37,
   "id": "d52184e3",
   "metadata": {},
   "outputs": [
    {
     "data": {
      "text/plain": [
       "[1, 2, 3, 5, 7, 13, 17, 17]"
      ]
     },
     "execution_count": 37,
     "metadata": {},
     "output_type": "execute_result"
    }
   ],
   "source": [
    "a = a + [17]\n",
    "a"
   ]
  },
  {
   "cell_type": "code",
   "execution_count": 45,
   "id": "3d7f99ae",
   "metadata": {},
   "outputs": [
    {
     "data": {
      "text/plain": [
       "[1, 2, 3, 5, 7, 9, 13, 17]"
      ]
     },
     "execution_count": 45,
     "metadata": {},
     "output_type": "execute_result"
    }
   ],
   "source": [
    "a.extend([17])\n",
    "a"
   ]
  },
  {
   "cell_type": "markdown",
   "id": "63441ad9",
   "metadata": {},
   "source": [
    "#### b. Insert 9 between 7 and 13"
   ]
  },
  {
   "cell_type": "code",
   "execution_count": 62,
   "id": "e5356f76",
   "metadata": {},
   "outputs": [
    {
     "data": {
      "text/plain": [
       "[1, 2, 3, 7, 13, 9, 9]"
      ]
     },
     "execution_count": 62,
     "metadata": {},
     "output_type": "execute_result"
    }
   ],
   "source": [
    "a.insert(5,9)\n",
    "a"
   ]
  },
  {
   "cell_type": "code",
   "execution_count": 50,
   "id": "47fe358f",
   "metadata": {},
   "outputs": [
    {
     "data": {
      "text/plain": [
       "[1, 2, 3, 5, 7, 9]"
      ]
     },
     "execution_count": 50,
     "metadata": {},
     "output_type": "execute_result"
    },
    {
     "data": {
      "text/plain": [
       "[1, 2, 3, 5, 7, 13]"
      ]
     },
     "execution_count": 50,
     "metadata": {},
     "output_type": "execute_result"
    }
   ],
   "source": [
    "a[:a.index(7)+1]+[9]+a[a.index(7):1:]\n",
    "a"
   ]
  },
  {
   "cell_type": "code",
   "execution_count": 51,
   "id": "bc51a20d",
   "metadata": {},
   "outputs": [
    {
     "data": {
      "text/plain": [
       "[1, 2, 3, 5, 7, 9, 13]"
      ]
     },
     "execution_count": 51,
     "metadata": {},
     "output_type": "execute_result"
    }
   ],
   "source": [
    "b = a[:5]+[9]+a[5:]\n",
    "b"
   ]
  },
  {
   "cell_type": "code",
   "execution_count": 53,
   "id": "b4fa2023",
   "metadata": {},
   "outputs": [
    {
     "name": "stdout",
     "output_type": "stream",
     "text": [
      "[1, 2, 3, 5, 7, 9, 13]\n"
     ]
    }
   ],
   "source": [
    "v = []\n",
    "for i in a:\n",
    "    v.append(i)\n",
    "    if i==7:\n",
    "        v.append(9)   \n",
    "print(v)"
   ]
  },
  {
   "cell_type": "markdown",
   "id": "88cbbc91",
   "metadata": {},
   "source": [
    "#### c. remove 1 and the 4th lement in a"
   ]
  },
  {
   "cell_type": "code",
   "execution_count": 88,
   "id": "d4e8d960",
   "metadata": {},
   "outputs": [],
   "source": [
    "a = [1, 2, 3, 5, 7, 13]"
   ]
  },
  {
   "cell_type": "code",
   "execution_count": 57,
   "id": "115e36c8",
   "metadata": {},
   "outputs": [
    {
     "data": {
      "text/plain": [
       "[2, 3, 5, 7, 13]"
      ]
     },
     "execution_count": 57,
     "metadata": {},
     "output_type": "execute_result"
    }
   ],
   "source": [
    "a.remove(1)\n",
    "a"
   ]
  },
  {
   "cell_type": "code",
   "execution_count": 63,
   "id": "523c0502",
   "metadata": {},
   "outputs": [
    {
     "data": {
      "text/plain": [
       "13"
      ]
     },
     "execution_count": 63,
     "metadata": {},
     "output_type": "execute_result"
    },
    {
     "data": {
      "text/plain": [
       "[1, 2, 3, 7, 13, 9, 9]"
      ]
     },
     "execution_count": 63,
     "metadata": {},
     "output_type": "execute_result"
    }
   ],
   "source": [
    "c = a[4]\n",
    "c\n",
    "# remove(c)\n",
    "a"
   ]
  },
  {
   "cell_type": "code",
   "execution_count": 60,
   "id": "ded9bc02",
   "metadata": {},
   "outputs": [
    {
     "data": {
      "text/plain": [
       "5"
      ]
     },
     "execution_count": 60,
     "metadata": {},
     "output_type": "execute_result"
    },
    {
     "data": {
      "text/plain": [
       "[1, 2, 3, 7, 13]"
      ]
     },
     "execution_count": 60,
     "metadata": {},
     "output_type": "execute_result"
    }
   ],
   "source": [
    "a.pop(3)\n",
    "a"
   ]
  },
  {
   "cell_type": "code",
   "execution_count": 66,
   "id": "fad8970a",
   "metadata": {},
   "outputs": [
    {
     "data": {
      "text/plain": [
       "array([ 2,  3,  7, 13,  9,  9])"
      ]
     },
     "execution_count": 66,
     "metadata": {},
     "output_type": "execute_result"
    }
   ],
   "source": [
    "import numpy as np\n",
    "np.delete(a, [0])"
   ]
  },
  {
   "cell_type": "code",
   "execution_count": 72,
   "id": "b47d892a",
   "metadata": {},
   "outputs": [
    {
     "data": {
      "text/plain": [
       "[1, 2, 9, 9]"
      ]
     },
     "execution_count": 72,
     "metadata": {},
     "output_type": "execute_result"
    }
   ],
   "source": [
    "# a.delete( a.index[9] )\n",
    "del a[2]\n",
    "a"
   ]
  },
  {
   "cell_type": "markdown",
   "id": "384a248b",
   "metadata": {},
   "source": [
    "#### d. Create another list of square of all the numbers"
   ]
  },
  {
   "cell_type": "code",
   "execution_count": 78,
   "id": "64b1add4",
   "metadata": {
    "scrolled": true
   },
   "outputs": [],
   "source": [
    "d = 5"
   ]
  },
  {
   "cell_type": "markdown",
   "id": "bf3441ab",
   "metadata": {},
   "source": [
    "#### d. Create another list of square of all the numbers"
   ]
  },
  {
   "cell_type": "code",
   "execution_count": 85,
   "id": "641b8bb3",
   "metadata": {},
   "outputs": [
    {
     "data": {
      "text/plain": [
       "numpy.ndarray"
      ]
     },
     "execution_count": 85,
     "metadata": {},
     "output_type": "execute_result"
    },
    {
     "data": {
      "text/plain": [
       "array([    1,    16,    81,   625,  2401, 28561])"
      ]
     },
     "execution_count": 85,
     "metadata": {},
     "output_type": "execute_result"
    }
   ],
   "source": [
    "a=np.square(a)\n",
    "type(a)\n",
    "a"
   ]
  },
  {
   "cell_type": "code",
   "execution_count": 92,
   "id": "2f6006fc",
   "metadata": {},
   "outputs": [
    {
     "data": {
      "text/plain": [
       "[1, 4, 9, 25, 49, 169]"
      ]
     },
     "execution_count": 92,
     "metadata": {},
     "output_type": "execute_result"
    }
   ],
   "source": [
    "square = [x**2 for x in a]\n",
    "square"
   ]
  },
  {
   "cell_type": "markdown",
   "id": "1f3c8b52",
   "metadata": {},
   "source": [
    "#### e. Sum all the numbers in the list a. (Implement with and without function)"
   ]
  },
  {
   "cell_type": "code",
   "execution_count": 93,
   "id": "b8b7be67",
   "metadata": {},
   "outputs": [
    {
     "data": {
      "text/plain": [
       "31"
      ]
     },
     "execution_count": 93,
     "metadata": {},
     "output_type": "execute_result"
    },
    {
     "data": {
      "text/plain": [
       "257"
      ]
     },
     "execution_count": 93,
     "metadata": {},
     "output_type": "execute_result"
    }
   ],
   "source": [
    "sum(a)\n",
    "sum(square)"
   ]
  },
  {
   "cell_type": "markdown",
   "id": "bb3564b5",
   "metadata": {},
   "source": [
    "#### f. Find the maximum number in the list"
   ]
  },
  {
   "cell_type": "code",
   "execution_count": 97,
   "id": "f1ed3860",
   "metadata": {},
   "outputs": [
    {
     "data": {
      "text/plain": [
       "13"
      ]
     },
     "execution_count": 97,
     "metadata": {},
     "output_type": "execute_result"
    },
    {
     "data": {
      "text/plain": [
       "169"
      ]
     },
     "execution_count": 97,
     "metadata": {},
     "output_type": "execute_result"
    }
   ],
   "source": [
    "max(a)\n",
    "max(square)"
   ]
  },
  {
   "cell_type": "markdown",
   "id": "dae99e93",
   "metadata": {},
   "source": [
    "g. Count the number of elements not divisible by 2 and 3 both."
   ]
  },
  {
   "cell_type": "code",
   "execution_count": 100,
   "id": "3425cb0f",
   "metadata": {},
   "outputs": [],
   "source": [
    "# d = [i for i in a if i % 2 !=0 and i % !=0]"
   ]
  },
  {
   "cell_type": "code",
   "execution_count": 106,
   "id": "06ca9070",
   "metadata": {},
   "outputs": [
    {
     "name": "stdout",
     "output_type": "stream",
     "text": [
      "8\n"
     ]
    }
   ],
   "source": [
    "count = 0\n",
    "for i in a:\n",
    "    if (i % 2 !=0 and i % 3 !=0):\n",
    "        count=count+1\n",
    "        count+=1\n",
    "print(count)"
   ]
  },
  {
   "cell_type": "code",
   "execution_count": 102,
   "id": "407715cf",
   "metadata": {},
   "outputs": [
    {
     "data": {
      "text/plain": [
       "4"
      ]
     },
     "execution_count": 102,
     "metadata": {},
     "output_type": "execute_result"
    }
   ],
   "source": [
    "len([i for i in a if (i % 2 != 0 and i % 3 != 0)])"
   ]
  },
  {
   "cell_type": "code",
   "execution_count": 103,
   "id": "8b8e0e4d",
   "metadata": {
    "scrolled": true
   },
   "outputs": [
    {
     "data": {
      "text/plain": [
       "[1, 5, 7, 13]"
      ]
     },
     "execution_count": 103,
     "metadata": {},
     "output_type": "execute_result"
    }
   ],
   "source": [
    "[i for i in a if (i % 2 != 0 and i % 3 != 0)]"
   ]
  },
  {
   "cell_type": "code",
   "execution_count": 123,
   "id": "6f288936",
   "metadata": {},
   "outputs": [
    {
     "data": {
      "text/plain": [
       "4"
      ]
     },
     "execution_count": 123,
     "metadata": {},
     "output_type": "execute_result"
    },
    {
     "data": {
      "text/plain": [
       "4"
      ]
     },
     "execution_count": 123,
     "metadata": {},
     "output_type": "execute_result"
    }
   ],
   "source": [
    "len(list(filter(lambda a: a is not None, [a if i%2!=0 and i%3!=0 else None for i in a])))\n",
    "# list(filter(lambda a: a is not None, [a if i%2!=0 and i%3!=0 else None for i in a]))\n",
    "len(list(filter(lambda a: a , [a if (i%2!=0 and i%3!=0) else None for i in a])))"
   ]
  },
  {
   "cell_type": "markdown",
   "id": "ee2db66d",
   "metadata": {},
   "source": [
    "### LabAssignment_4B_TupleSetDict"
   ]
  },
  {
   "cell_type": "markdown",
   "id": "1cc5c1b7",
   "metadata": {},
   "source": [
    "Q.3 Create a dictionary containing students roll number (integer) as a key and the result percentage (float) as a value. Do following operations on it:\n",
    "a. Collect the roll number as a separate list\n",
    "b. Sort the dictionary based on the roll number\n",
    "c. Get the marks of roll number 21.\n",
    "d. Append the result percentage of roll number 11 as 87.32 e. Remove the entry of roll number 31."
   ]
  },
  {
   "cell_type": "code",
   "execution_count": 136,
   "id": "312f4f2c",
   "metadata": {},
   "outputs": [
    {
     "data": {
      "text/plain": [
       "{22: 78.2, 15: 88.8, 21: 100, 11: 66.77}"
      ]
     },
     "execution_count": 136,
     "metadata": {},
     "output_type": "execute_result"
    },
    {
     "data": {
      "text/plain": [
       "dict"
      ]
     },
     "execution_count": 136,
     "metadata": {},
     "output_type": "execute_result"
    }
   ],
   "source": [
    "student = { 22: 78.2, 15: 88.8, 21: 100, 11:66.77 }\n",
    "student\n",
    "type(student)\n",
    "type(student)"
   ]
  },
  {
   "cell_type": "code",
   "execution_count": 141,
   "id": "71b526b8",
   "metadata": {},
   "outputs": [
    {
     "name": "stdout",
     "output_type": "stream",
     "text": [
      "22\n",
      "15\n",
      "21\n",
      "11\n"
     ]
    },
    {
     "data": {
      "text/plain": [
       "[22, 15, 21, 11]"
      ]
     },
     "execution_count": 141,
     "metadata": {},
     "output_type": "execute_result"
    }
   ],
   "source": [
    "g = []\n",
    "for x, y in student.items():\n",
    "    print(x)\n",
    "    g.append(x)\n",
    "g"
   ]
  },
  {
   "cell_type": "code",
   "execution_count": 167,
   "id": "9dad9b4e",
   "metadata": {},
   "outputs": [
    {
     "data": {
      "text/plain": [
       "{6: 91.5, 2: 82.5, 3: 73.75, 5: 64.85, 4: 75.5, 1: 96.5}"
      ]
     },
     "execution_count": 167,
     "metadata": {},
     "output_type": "execute_result"
    }
   ],
   "source": [
    "roll_number = [6,2,3,5,4,1]\n",
    "percent = [91.5,82.5,73.75,64.85,75.5,96.5]\n",
    "\n",
    "h = {r:p for r,p in zip(roll_number,percent)}\n",
    "h"
   ]
  },
  {
   "cell_type": "code",
   "execution_count": 159,
   "id": "01ac210d",
   "metadata": {},
   "outputs": [
    {
     "data": {
      "text/plain": [
       "dict_keys([6, 2, 3, 5, 4, 1])"
      ]
     },
     "execution_count": 159,
     "metadata": {},
     "output_type": "execute_result"
    },
    {
     "data": {
      "text/plain": [
       "dict_values([1.5, 2.5, 3.5, 4.5, 5.5, 6.5])"
      ]
     },
     "execution_count": 159,
     "metadata": {},
     "output_type": "execute_result"
    }
   ],
   "source": [
    "h.keys()\n",
    "h.values()"
   ]
  },
  {
   "cell_type": "code",
   "execution_count": 161,
   "id": "fc23aea8",
   "metadata": {
    "scrolled": true
   },
   "outputs": [
    {
     "name": "stdout",
     "output_type": "stream",
     "text": [
      "{6: 1.5, 2: 2.5, 3: 3.5, 5: 4.5, 4: 5.5, 1: 6.5}\n"
     ]
    }
   ],
   "source": [
    "d = {}\n",
    "for key, value in zip(roll_number, percent):\n",
    "    d[key]=value\n",
    "print(d)"
   ]
  },
  {
   "cell_type": "code",
   "execution_count": 168,
   "id": "295a2c70",
   "metadata": {},
   "outputs": [
    {
     "data": {
      "text/plain": [
       "5.5"
      ]
     },
     "execution_count": 168,
     "metadata": {},
     "output_type": "execute_result"
    }
   ],
   "source": [
    "d[4]"
   ]
  },
  {
   "cell_type": "code",
   "execution_count": 170,
   "id": "2c918ebe",
   "metadata": {},
   "outputs": [
    {
     "data": {
      "text/plain": [
       "87.32"
      ]
     },
     "execution_count": 170,
     "metadata": {},
     "output_type": "execute_result"
    }
   ],
   "source": [
    "d[11]=87.32\n",
    "d[11]"
   ]
  }
 ],
 "metadata": {
  "kernelspec": {
   "display_name": "Python 3 (ipykernel)",
   "language": "python",
   "name": "python3"
  },
  "language_info": {
   "codemirror_mode": {
    "name": "ipython",
    "version": 3
   },
   "file_extension": ".py",
   "mimetype": "text/x-python",
   "name": "python",
   "nbconvert_exporter": "python",
   "pygments_lexer": "ipython3",
   "version": "3.9.12"
  }
 },
 "nbformat": 4,
 "nbformat_minor": 5
}
