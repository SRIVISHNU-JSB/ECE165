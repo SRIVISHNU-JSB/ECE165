{
 "cells": [
  {
   "cell_type": "markdown",
   "id": "270e0ea3",
   "metadata": {},
   "source": [
    "### Assigment 7"
   ]
  },
  {
   "cell_type": "code",
   "execution_count": 1,
   "id": "b2de2d15",
   "metadata": {},
   "outputs": [],
   "source": [
    "import numpy as np"
   ]
  },
  {
   "cell_type": "code",
   "execution_count": 39,
   "id": "858b8c0a",
   "metadata": {},
   "outputs": [
    {
     "name": "stdout",
     "output_type": "stream",
     "text": [
      "[[3 7 5]\n",
      " [8 4 3]\n",
      " [2 4 9]]\n"
     ]
    }
   ],
   "source": [
    "a = np.array([[3,7,5],[8,4,3],[2,4,9]])\n",
    "print(a)"
   ]
  },
  {
   "cell_type": "code",
   "execution_count": 9,
   "id": "39e70d58",
   "metadata": {},
   "outputs": [
    {
     "name": "stdout",
     "output_type": "stream",
     "text": [
      "2\n"
     ]
    }
   ],
   "source": [
    "print(np.amin(a))"
   ]
  },
  {
   "cell_type": "code",
   "execution_count": 10,
   "id": "2e12b5c3",
   "metadata": {},
   "outputs": [
    {
     "name": "stdout",
     "output_type": "stream",
     "text": [
      "9\n"
     ]
    }
   ],
   "source": [
    "print(np.amax(a))"
   ]
  },
  {
   "cell_type": "code",
   "execution_count": 36,
   "id": "454860e6",
   "metadata": {},
   "outputs": [],
   "source": [
    "# a = np.array([[1,2,3],[4,5,6],[7,8,9]])"
   ]
  },
  {
   "cell_type": "code",
   "execution_count": 40,
   "id": "f784e773",
   "metadata": {},
   "outputs": [
    {
     "name": "stdout",
     "output_type": "stream",
     "text": [
      "[4.33333333 5.         5.66666667]\n",
      "[5. 5. 5.]\n"
     ]
    }
   ],
   "source": [
    "#for axis = 0 is column wise\n",
    "# print(np.mean(a, axis=0))\n",
    "#for axis = 1 is row wise\n",
    "# print(np.mean(a, axis=1))\n",
    "# print(np.median(a, axis=1))\n",
    "# print(np.average(a, axis=1))"
   ]
  },
  {
   "cell_type": "code",
   "execution_count": 44,
   "id": "4d5f2628",
   "metadata": {},
   "outputs": [],
   "source": [
    "c = np.arange(10)"
   ]
  },
  {
   "cell_type": "code",
   "execution_count": 45,
   "id": "b96f988e",
   "metadata": {},
   "outputs": [
    {
     "data": {
      "text/plain": [
       "4.5"
      ]
     },
     "execution_count": 45,
     "metadata": {},
     "output_type": "execute_result"
    }
   ],
   "source": [
    "np.median(c)"
   ]
  },
  {
   "cell_type": "code",
   "execution_count": 49,
   "id": "b4a2d80c",
   "metadata": {},
   "outputs": [],
   "source": [
    "d = np.random.random([1,10])"
   ]
  },
  {
   "cell_type": "code",
   "execution_count": 51,
   "id": "02e95520",
   "metadata": {},
   "outputs": [
    {
     "data": {
      "text/plain": [
       "array([[ 6.50945988, 33.72259524, 75.13067063, 69.39650614, 75.16326133,\n",
       "        32.64362566, 26.05272163, 11.47173653, 58.60381597, 75.00344476]])"
      ]
     },
     "execution_count": 51,
     "metadata": {},
     "output_type": "execute_result"
    }
   ],
   "source": [
    "100*np.random.random([1,10])"
   ]
  },
  {
   "cell_type": "code",
   "execution_count": 54,
   "id": "c3a5418a",
   "metadata": {},
   "outputs": [
    {
     "data": {
      "text/plain": [
       "array([[0., 0., 0., 0., 0., 0., 0., 0., 0., 0.]])"
      ]
     },
     "execution_count": 54,
     "metadata": {},
     "output_type": "execute_result"
    },
    {
     "data": {
      "text/plain": [
       "array([[1., 1., 1., 1., 1., 1., 1., 1., 1., 1.]])"
      ]
     },
     "execution_count": 54,
     "metadata": {},
     "output_type": "execute_result"
    },
    {
     "data": {
      "text/plain": [
       "array([[0., 1., 0., 0., 1., 1., 1., 1., 0., 1.]])"
      ]
     },
     "execution_count": 54,
     "metadata": {},
     "output_type": "execute_result"
    }
   ],
   "source": [
    "np.floor(d)\n",
    "np.ceil(d)\n",
    "np.round(d)"
   ]
  },
  {
   "cell_type": "code",
   "execution_count": 58,
   "id": "7bc821a0",
   "metadata": {},
   "outputs": [
    {
     "name": "stdout",
     "output_type": "stream",
     "text": [
      "[[0 0 0 0 0 0 0 0 0 0]]\n"
     ]
    }
   ],
   "source": [
    "print(np.int16(d))"
   ]
  },
  {
   "cell_type": "code",
   "execution_count": 64,
   "id": "05d534eb",
   "metadata": {},
   "outputs": [
    {
     "data": {
      "text/plain": [
       "array([[86., 57., 52., 79., 38., 68., 16.,  3., 25., 13.]])"
      ]
     },
     "execution_count": 64,
     "metadata": {},
     "output_type": "execute_result"
    },
    {
     "data": {
      "text/plain": [
       "array([[86., 45., 35., 79., 28., 42.,  6., 24., 40., 54.]])"
      ]
     },
     "execution_count": 64,
     "metadata": {},
     "output_type": "execute_result"
    },
    {
     "data": {
      "text/plain": [
       "array([[34., 49., 70., 75., 61., 26., 35., 55., 33.,  3.]])"
      ]
     },
     "execution_count": 64,
     "metadata": {},
     "output_type": "execute_result"
    }
   ],
   "source": [
    "np.ceil(100*np.random.random([1,10]))\n",
    "np.floor(100*np.random.random([1,10]))\n",
    "np.round(100*np.random.random([1,10]))"
   ]
  },
  {
   "cell_type": "code",
   "execution_count": 67,
   "id": "bae22467",
   "metadata": {},
   "outputs": [
    {
     "name": "stdout",
     "output_type": "stream",
     "text": [
      "[[19. 85. 16. 81. 51. 30. 81. 31. 92. 77.]]\n",
      "64.0\n"
     ]
    }
   ],
   "source": [
    "a=np.floor(100*np.random.random([1,10]))\n",
    "print(a)\n",
    "print(np.median(a))"
   ]
  },
  {
   "cell_type": "markdown",
   "id": "050bdeaf",
   "metadata": {},
   "source": [
    "### Break"
   ]
  },
  {
   "cell_type": "markdown",
   "id": "a95ceacf",
   "metadata": {},
   "source": [
    "### Assignment 7"
   ]
  },
  {
   "cell_type": "markdown",
   "id": "bd00b75e",
   "metadata": {},
   "source": [
    "Q.1 Declare a (5, 6) matrix with random values between 0 to 1. Write codes for the followings:\n",
    "a. Get the mean column-wise\n",
    "b. Get the standard deviation row-wise\n",
    "c. Get the mean of all the numbers in the matrix d. Sort the matrix along the zeroth axis."
   ]
  },
  {
   "cell_type": "code",
   "execution_count": 74,
   "id": "94577674",
   "metadata": {},
   "outputs": [
    {
     "name": "stdout",
     "output_type": "stream",
     "text": [
      "[[0.22999631 0.01583991 0.96864705 0.07659921 0.24408601 0.03943562]\n",
      " [0.32517456 0.07009769 0.66844074 0.47355129 0.6072602  0.42095921]\n",
      " [0.75247317 0.24233437 0.85069619 0.51950391 0.96085012 0.44273964]\n",
      " [0.04884083 0.04154474 0.57146971 0.4660956  0.24843023 0.11865356]\n",
      " [0.96996681 0.47224242 0.25755042 0.72376557 0.24197516 0.83367777]]\n"
     ]
    }
   ],
   "source": [
    "# A = np.random.random([1,30]).reshape(5,6)\n",
    "A = np.random.random([5,6])\n",
    "print(A)\n"
   ]
  },
  {
   "cell_type": "markdown",
   "id": "f0174147",
   "metadata": {},
   "source": [
    "## IMPORTANT NOTES\n",
    "## axis = 0 is for columns in the matrix\n",
    "## axis = 1 is for rows in the matrix\n"
   ]
  },
  {
   "cell_type": "code",
   "execution_count": null,
   "id": "88646519",
   "metadata": {},
   "outputs": [],
   "source": [
    "# Mean Column wise means axis = 0\n",
    "np.mean(A, axis=0)"
   ]
  },
  {
   "cell_type": "code",
   "execution_count": 89,
   "id": "beca2ddc",
   "metadata": {},
   "outputs": [
    {
     "data": {
      "text/plain": [
       "array([0.32792205, 0.19610224, 0.24856491, 0.2046171 , 0.27895041])"
      ]
     },
     "execution_count": 89,
     "metadata": {},
     "output_type": "execute_result"
    }
   ],
   "source": [
    "np.std(A,axis = 1)"
   ]
  },
  {
   "cell_type": "code",
   "execution_count": null,
   "id": "01b29c53",
   "metadata": {},
   "outputs": [],
   "source": [
    "np.mean(A)"
   ]
  },
  {
   "cell_type": "code",
   "execution_count": null,
   "id": "68506714",
   "metadata": {
    "scrolled": false
   },
   "outputs": [],
   "source": [
    "# np.sort(A)\n",
    "np.sort(A, axis=0)\n",
    "# np.sort(A, axis=1)"
   ]
  },
  {
   "cell_type": "code",
   "execution_count": 1,
   "id": "d19434d8",
   "metadata": {},
   "outputs": [
    {
     "name": "stdout",
     "output_type": "stream",
     "text": [
      "1 2 3 -4 5\n",
      "[ 1.  2.  3. -4.  5.]\n"
     ]
    },
    {
     "data": {
      "text/plain": [
       "array([ 5., -4.,  3.,  2.,  1.])"
      ]
     },
     "execution_count": 1,
     "metadata": {},
     "output_type": "execute_result"
    },
    {
     "data": {
      "text/plain": [
       "array([ 5., -4.,  3.,  2.,  1.])"
      ]
     },
     "execution_count": 1,
     "metadata": {},
     "output_type": "execute_result"
    }
   ],
   "source": [
    "import numpy\n",
    "\n",
    "# def arrays(arr):\n",
    "    # complete this function\n",
    "    # use numpy.array\n",
    "    \n",
    "#     return numpy.array(arr)\n",
    "\n",
    "# arr = input().strip().split(' ')\n",
    "arr = numpy.array(input().split(' '),dtype='float')\n",
    "# arr = numpy.array(input().strip().split(' '),dtype='float')\n",
    "print(arr)\n",
    "# result = arrays(arr)\n",
    "# print(result)\n",
    "numpy.flipud(arr)\n",
    "# numpy.fliplr(arr)\n",
    "arr[::-1]"
   ]
  },
  {
   "cell_type": "code",
   "execution_count": null,
   "id": "583f0eea",
   "metadata": {},
   "outputs": [],
   "source": []
  }
 ],
 "metadata": {
  "kernelspec": {
   "display_name": "Python 3 (ipykernel)",
   "language": "python",
   "name": "python3"
  },
  "language_info": {
   "codemirror_mode": {
    "name": "ipython",
    "version": 3
   },
   "file_extension": ".py",
   "mimetype": "text/x-python",
   "name": "python",
   "nbconvert_exporter": "python",
   "pygments_lexer": "ipython3",
   "version": "3.9.12"
  }
 },
 "nbformat": 4,
 "nbformat_minor": 5
}
