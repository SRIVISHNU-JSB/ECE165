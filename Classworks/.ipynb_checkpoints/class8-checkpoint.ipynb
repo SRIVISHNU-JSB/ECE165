{
 "cells": [
  {
   "cell_type": "markdown",
   "id": "4da4ba1e",
   "metadata": {},
   "source": [
    "## Data Structures in Python - Continued...\n",
    "\n",
    "Date: August 25, 2022 at 10-12\n",
    "\n",
    "- tuple[]\n",
    "- set[]\n",
    "- dictionary{}\n"
   ]
  },
  {
   "cell_type": "markdown",
   "id": "aa8c57d2",
   "metadata": {},
   "source": [
    "What is R, Theta, Pi in Matrix used in Robotic Arms?"
   ]
  },
  {
   "cell_type": "code",
   "execution_count": 18,
   "id": "db3ed959",
   "metadata": {},
   "outputs": [],
   "source": [
    "# To make all the variables visible in the outputs\n",
    "from IPython.core.interactiveshell import InteractiveShell\n",
    "InteractiveShell.ast_node_interactivity = \"all\""
   ]
  },
  {
   "cell_type": "code",
   "execution_count": 3,
   "id": "c40f82d2",
   "metadata": {},
   "outputs": [],
   "source": [
    "a = [1.5,-3,6,10]\n",
    "a.sort()\n",
    "a.sort(reverse=False)"
   ]
  },
  {
   "cell_type": "code",
   "execution_count": 16,
   "id": "8aad7519",
   "metadata": {},
   "outputs": [
    {
     "data": {
      "text/plain": [
       "{2: 4, 4: 16, 6: 36}"
      ]
     },
     "execution_count": 16,
     "metadata": {},
     "output_type": "execute_result"
    }
   ],
   "source": [
    "adict = {x: x**2 for x in (2,4,6)}\n",
    "adict\n",
    "\n",
    "# Check this enumerate() method\n",
    "# for i, v in enumerate(adict);\n",
    "#     print(i)"
   ]
  },
  {
   "cell_type": "code",
   "execution_count": 9,
   "id": "07c10795",
   "metadata": {},
   "outputs": [
    {
     "data": {
      "text/plain": [
       "set"
      ]
     },
     "execution_count": 9,
     "metadata": {},
     "output_type": "execute_result"
    }
   ],
   "source": [
    "singleton = 'new'\n",
    "singleton = 'new',\n",
    "singleton = set('new')\n",
    "singleton =\n",
    "type(singleton)"
   ]
  },
  {
   "cell_type": "code",
   "execution_count": 32,
   "id": "c657837b",
   "metadata": {},
   "outputs": [
    {
     "data": {
      "text/plain": [
       "{1.5: 2.5, -3: -2, 6: 7}"
      ]
     },
     "execution_count": 32,
     "metadata": {},
     "output_type": "execute_result"
    }
   ],
   "source": [
    "a = {x: x+1 for x in [1.5,-3,6]}\n",
    "a"
   ]
  },
  {
   "cell_type": "markdown",
   "id": "dc7ce2b2",
   "metadata": {},
   "source": [
    "### Tuple Methods\n",
    "#### tuple Functions\n"
   ]
  },
  {
   "cell_type": "markdown",
   "id": "5c4d87e3",
   "metadata": {},
   "source": [
    "### Set Methods\n",
    "#### set Functions\n"
   ]
  },
  {
   "cell_type": "markdown",
   "id": "f001f4e2",
   "metadata": {},
   "source": [
    "### Dictionary Methods\n",
    "#### dictionary Functions\n"
   ]
  },
  {
   "cell_type": "code",
   "execution_count": 34,
   "id": "2119045c",
   "metadata": {},
   "outputs": [
    {
     "data": {
      "text/plain": [
       "16"
      ]
     },
     "execution_count": 34,
     "metadata": {},
     "output_type": "execute_result"
    }
   ],
   "source": [
    "adict = {x: x**2 for x in (2,4,6)}\n",
    "adict.get(4)"
   ]
  },
  {
   "cell_type": "markdown",
   "id": "48da900e",
   "metadata": {},
   "source": [
    "## Lab Questions"
   ]
  },
  {
   "cell_type": "code",
   "execution_count": 47,
   "id": "721c720c",
   "metadata": {},
   "outputs": [
    {
     "ename": "TypeError",
     "evalue": "'str' object does not support item assignment",
     "output_type": "error",
     "traceback": [
      "\u001b[0;31m---------------------------------------------------------------------------\u001b[0m",
      "\u001b[0;31mTypeError\u001b[0m                                 Traceback (most recent call last)",
      "Input \u001b[0;32mIn [47]\u001b[0m, in \u001b[0;36m<cell line: 2>\u001b[0;34m()\u001b[0m\n\u001b[1;32m      1\u001b[0m s \u001b[38;5;241m=\u001b[39m \u001b[38;5;124m\"\u001b[39m\u001b[38;5;124mmera bharat mahan..!\u001b[39m\u001b[38;5;124m\"\u001b[39m\n\u001b[0;32m----> 2\u001b[0m s[\u001b[38;5;241m0\u001b[39m] \u001b[38;5;241m=\u001b[39m \u001b[38;5;124m\"\u001b[39m\u001b[38;5;124mM\u001b[39m\u001b[38;5;124m\"\u001b[39m\n\u001b[1;32m      4\u001b[0m s[\u001b[38;5;241m5\u001b[39m]\n",
      "\u001b[0;31mTypeError\u001b[0m: 'str' object does not support item assignment"
     ]
    }
   ],
   "source": [
    "s = \"mera bharat mahan..!\"\n",
    "# Strings are immutable data_members\n",
    "s[0] = \"M\"\n",
    "\n",
    "# s[5]"
   ]
  },
  {
   "cell_type": "code",
   "execution_count": 12,
   "id": "903cf09f",
   "metadata": {},
   "outputs": [
    {
     "data": {
      "text/plain": [
       "['M',\n",
       " 'e',\n",
       " 'r',\n",
       " 'a',\n",
       " ' ',\n",
       " 'B',\n",
       " 'h',\n",
       " 'a',\n",
       " 'r',\n",
       " 'a',\n",
       " 't',\n",
       " ' ',\n",
       " 'M',\n",
       " 'a',\n",
       " 'h',\n",
       " 'a',\n",
       " 'n',\n",
       " '.',\n",
       " '.',\n",
       " '!']"
      ]
     },
     "execution_count": 12,
     "metadata": {},
     "output_type": "execute_result"
    },
    {
     "data": {
      "text/plain": [
       "'Mera Bharat Mahan..!'"
      ]
     },
     "execution_count": 12,
     "metadata": {},
     "output_type": "execute_result"
    },
    {
     "data": {
      "text/plain": [
       "'m. !hnbtrae'"
      ]
     },
     "execution_count": 12,
     "metadata": {},
     "output_type": "execute_result"
    },
    {
     "data": {
      "text/plain": [
       "str"
      ]
     },
     "execution_count": 12,
     "metadata": {},
     "output_type": "execute_result"
    }
   ],
   "source": [
    "s = \"mera bharat mahan..!\"\n",
    "l = list(s)\n",
    "\n",
    "l[0] = 'M'\n",
    "l[5] = 'B'\n",
    "l[12] = 'M'\n",
    "l\n",
    "new_s = \"\"\n",
    "new_s.join(l)\n",
    "# s = ''.join(l)\n",
    "# s\n",
    "# set(s)\n",
    "# s = ''.join(set(s))\n",
    "# s\n",
    "''.join(set(s)).lower()\n",
    "# ''.join(set(s)).upper()\n",
    "# ''.join(set(s)).capitalize()\n",
    "# s = str(''.join(set(s))\n",
    "type(s)"
   ]
  },
  {
   "cell_type": "code",
   "execution_count": 9,
   "id": "2de0de22-1b0d-405e-9c36-1b6b2da72006",
   "metadata": {},
   "outputs": [
    {
     "data": {
      "text/plain": [
       "list"
      ]
     },
     "execution_count": 9,
     "metadata": {},
     "output_type": "execute_result"
    },
    {
     "data": {
      "text/plain": [
       "'12345j'"
      ]
     },
     "execution_count": 9,
     "metadata": {},
     "output_type": "execute_result"
    },
    {
     "data": {
      "text/plain": [
       "'1 2 3 4 5 j'"
      ]
     },
     "execution_count": 9,
     "metadata": {},
     "output_type": "execute_result"
    }
   ],
   "source": [
    "new_l = [1, 2, 3, 4, 5, \"j\"]\n",
    "type(new_l)\n",
    "\n",
    "# ' '.join(str(i) for i in new_l)\n",
    "\n",
    "new_s = \"\"\n",
    "for i in new_l:\n",
    "    # print(i)\n",
    "    new_s += str(i)\n",
    "    \n",
    "new_s\n",
    "\n",
    "' '.join(map(str,new_l))"
   ]
  }
 ],
 "metadata": {
  "kernelspec": {
   "display_name": "Python 3 (ipykernel)",
   "language": "python",
   "name": "python3"
  },
  "language_info": {
   "codemirror_mode": {
    "name": "ipython",
    "version": 3
   },
   "file_extension": ".py",
   "mimetype": "text/x-python",
   "name": "python",
   "nbconvert_exporter": "python",
   "pygments_lexer": "ipython3",
   "version": "3.8.13"
  }
 },
 "nbformat": 4,
 "nbformat_minor": 5
}
