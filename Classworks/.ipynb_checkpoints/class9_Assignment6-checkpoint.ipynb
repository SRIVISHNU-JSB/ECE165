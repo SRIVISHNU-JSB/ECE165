{
 "cells": [
  {
   "cell_type": "markdown",
   "id": "89a9a8a5-a708-4a32-9360-d0611ad4d6a9",
   "metadata": {
    "tags": []
   },
   "source": [
    "## Python for Image Processing\n",
    "\n",
    "Date: September 01, 2022 at 10-12\n",
    "\n"
   ]
  },
  {
   "cell_type": "markdown",
   "id": "b4b16a6f-1394-4bf9-a9bc-e3e3e0565dcc",
   "metadata": {},
   "source": [
    "### Lab Assignment 6 _NumPy"
   ]
  },
  {
   "cell_type": "markdown",
   "id": "abcd138a-f41f-4143-94e0-4ec205a3a3c5",
   "metadata": {},
   "source": [
    "## Q1"
   ]
  },
  {
   "cell_type": "code",
   "execution_count": 5,
   "id": "714b2717-631e-4358-a776-483b691c4c63",
   "metadata": {},
   "outputs": [],
   "source": [
    "import numpy as np"
   ]
  },
  {
   "cell_type": "code",
   "execution_count": 89,
   "id": "8033b687-a208-47bb-a0d6-ca35ebdd3f68",
   "metadata": {},
   "outputs": [
    {
     "data": {
      "text/plain": [
       "array([[ 1,  2,  3],\n",
       "       [ 4,  5,  7],\n",
       "       [ 8,  9, 10]])"
      ]
     },
     "execution_count": 89,
     "metadata": {},
     "output_type": "execute_result"
    }
   ],
   "source": [
    "#\n",
    "A = np.array( [[1,2,3],[4,5,7],[8,9,10]] )\n",
    "A"
   ]
  },
  {
   "cell_type": "code",
   "execution_count": 90,
   "id": "459e3d4b-1cdb-49ac-b544-308e09f29a77",
   "metadata": {},
   "outputs": [
    {
     "data": {
      "text/plain": [
       "array([[2, 2, 2],\n",
       "       [3, 3, 3],\n",
       "       [4, 4, 4]])"
      ]
     },
     "execution_count": 90,
     "metadata": {},
     "output_type": "execute_result"
    }
   ],
   "source": [
    "B = np.array( [[2,2,2],[3,3,3],[4,4,4]] )\n",
    "B"
   ]
  },
  {
   "cell_type": "code",
   "execution_count": 5,
   "id": "48c0dea7-7874-40d6-a592-d06bb58cf30a",
   "metadata": {},
   "outputs": [
    {
     "name": "stdout",
     "output_type": "stream",
     "text": [
      "[[ 3  4  5]\n",
      " [ 7  8 10]\n",
      " [12 13 14]]\n"
     ]
    }
   ],
   "source": [
    "#a\n",
    "print(A+B)"
   ]
  },
  {
   "cell_type": "code",
   "execution_count": 9,
   "id": "519e9f69-71ba-46d4-968e-38ef1c51e7a3",
   "metadata": {},
   "outputs": [
    {
     "name": "stdout",
     "output_type": "stream",
     "text": [
      "[[-1  0  1]\n",
      " [ 1  2  4]\n",
      " [ 4  5  6]]\n"
     ]
    }
   ],
   "source": [
    "#b\n",
    "print(A-B)"
   ]
  },
  {
   "cell_type": "code",
   "execution_count": 7,
   "id": "35001dbf-b4e3-4ef5-9b29-b393ed56df71",
   "metadata": {},
   "outputs": [
    {
     "name": "stdout",
     "output_type": "stream",
     "text": [
      "[[ 2  4  6]\n",
      " [12 15 21]\n",
      " [32 36 40]]\n"
     ]
    }
   ],
   "source": [
    "#c\n",
    "#Elementwise Product\n",
    "print(A*B)"
   ]
  },
  {
   "cell_type": "code",
   "execution_count": 94,
   "id": "a3782d8a-5090-434e-8216-418509f9020c",
   "metadata": {},
   "outputs": [
    {
     "data": {
      "text/plain": [
       "array([[20, 20, 20],\n",
       "       [51, 51, 51],\n",
       "       [83, 83, 83]])"
      ]
     },
     "execution_count": 94,
     "metadata": {},
     "output_type": "execute_result"
    }
   ],
   "source": [
    "#d\n",
    "#Matrix Product\n",
    "# print(A@B)\n",
    "# print(A.dot(B))\n",
    "# np.dot(A,B)\n",
    "np.matmul(A,B)"
   ]
  },
  {
   "cell_type": "markdown",
   "id": "3f4dcb90-9c6f-4003-850d-e100ed8fb7c0",
   "metadata": {},
   "source": [
    "## Q2"
   ]
  },
  {
   "cell_type": "code",
   "execution_count": 49,
   "id": "22adb310-dd98-4d0b-8a38-843dbbf30d27",
   "metadata": {},
   "outputs": [
    {
     "name": "stdout",
     "output_type": "stream",
     "text": [
      "[[ 0  2  4  6]\n",
      " [ 8 10 12 14]\n",
      " [16 18 20 22]]\n"
     ]
    }
   ],
   "source": [
    "#a\n",
    "# A1=np.reshape(np.array([np.arange(0,23,2)]),[3,4])\n",
    "# A1=np.reshape(np.array([np.arange(0,23,2)]),[3,4])\n",
    "A1 = np.arange(0,23,2).reshape([3,4])\n",
    "print(A1)"
   ]
  },
  {
   "cell_type": "code",
   "execution_count": 142,
   "id": "f1412ac4-0c6b-4b4d-8995-c2f83031df8e",
   "metadata": {},
   "outputs": [
    {
     "data": {
      "text/plain": [
       "array([ 6, 14, 22])"
      ]
     },
     "execution_count": 142,
     "metadata": {},
     "output_type": "execute_result"
    }
   ],
   "source": [
    "A1[:,3]"
   ]
  },
  {
   "cell_type": "code",
   "execution_count": 9,
   "id": "e1b10db9-ae52-4d4e-8a63-7708c86eafb0",
   "metadata": {},
   "outputs": [
    {
     "name": "stdout",
     "output_type": "stream",
     "text": [
      "[[1 1 1]\n",
      " [1 1 1]\n",
      " [1 1 1]\n",
      " [1 1 1]]\n"
     ]
    }
   ],
   "source": [
    "#b\n",
    "B1=np.ones([4,3], dtype='int32')\n",
    "# B1=np.zeros([4,3], dtype='int32')\n",
    "print(B1)"
   ]
  },
  {
   "cell_type": "code",
   "execution_count": 97,
   "id": "a4206cb6-9ced-485a-8252-76a6519fb562",
   "metadata": {},
   "outputs": [
    {
     "name": "stdout",
     "output_type": "stream",
     "text": [
      "[[ 12  18  24]\n",
      " [ 68  74  80]\n",
      " [124 130 136]]\n"
     ]
    }
   ],
   "source": [
    "#c\n",
    "#C1=A@B\n",
    "C1=np.dot(A1,B1)\n",
    "C1=np.matmul(A1,B1)\n",
    "print(C1)"
   ]
  },
  {
   "cell_type": "code",
   "execution_count": 108,
   "id": "34936bbf-707f-4a3a-9ac9-91cd1f1abdc1",
   "metadata": {},
   "outputs": [
    {
     "data": {
      "text/plain": [
       "(3, 3)"
      ]
     },
     "execution_count": 108,
     "metadata": {},
     "output_type": "execute_result"
    },
    {
     "data": {
      "text/plain": [
       "9"
      ]
     },
     "execution_count": 108,
     "metadata": {},
     "output_type": "execute_result"
    },
    {
     "data": {
      "text/plain": [
       "2"
      ]
     },
     "execution_count": 108,
     "metadata": {},
     "output_type": "execute_result"
    },
    {
     "data": {
      "text/plain": [
       "numpy.ndarray"
      ]
     },
     "execution_count": 108,
     "metadata": {},
     "output_type": "execute_result"
    }
   ],
   "source": [
    "C1.shape\n",
    "C1.size\n",
    "C1.ndim\n",
    "type(A2)"
   ]
  },
  {
   "cell_type": "code",
   "execution_count": 58,
   "id": "41db10ec-cbc4-46e4-8bd8-c7bdace5d830",
   "metadata": {},
   "outputs": [
    {
     "data": {
      "text/plain": [
       "array([[4, 1, 1],\n",
       "       [1, 4, 1],\n",
       "       [1, 1, 4],\n",
       "       [1, 1, 1]], dtype=int32)"
      ]
     },
     "execution_count": 58,
     "metadata": {},
     "output_type": "execute_result"
    }
   ],
   "source": [
    "#d\n",
    "for i in range(3):\n",
    "    B1[i,i] = 4\n",
    "B1"
   ]
  },
  {
   "cell_type": "code",
   "execution_count": 68,
   "id": "7afff081-9e1f-4e07-a283-96240ac6f559",
   "metadata": {},
   "outputs": [
    {
     "name": "stdout",
     "output_type": "stream",
     "text": [
      "4 3\n"
     ]
    },
    {
     "data": {
      "text/plain": [
       "3"
      ]
     },
     "execution_count": 68,
     "metadata": {},
     "output_type": "execute_result"
    }
   ],
   "source": [
    "(nr, nc) = B1.shape\n",
    "print(nr, nc)\n",
    "range=min(nr, nc)\n",
    "range"
   ]
  },
  {
   "cell_type": "code",
   "execution_count": 62,
   "id": "9f24c1ba-4546-4008-8506-ac5a7f1af26c",
   "metadata": {},
   "outputs": [
    {
     "data": {
      "text/plain": [
       "array([[4, 1, 1],\n",
       "       [1, 4, 1],\n",
       "       [1, 1, 4],\n",
       "       [1, 1, 1]], dtype=int32)"
      ]
     },
     "execution_count": 62,
     "metadata": {},
     "output_type": "execute_result"
    }
   ],
   "source": [
    "for i in range(min(nr, nc)):\n",
    "    B1[i,i] = 4\n",
    "B1"
   ]
  },
  {
   "cell_type": "code",
   "execution_count": 118,
   "id": "1a29b38d-346d-4c43-87ea-f062ce0a509d",
   "metadata": {},
   "outputs": [
    {
     "name": "stdout",
     "output_type": "stream",
     "text": [
      "[ 8 10 12 14]\n"
     ]
    }
   ],
   "source": [
    "#e\n",
    "print(A1[1])\n",
    "# print(A1[1:2])"
   ]
  },
  {
   "cell_type": "code",
   "execution_count": 136,
   "id": "20d10441-0c15-44df-99c6-f768588e3b7e",
   "metadata": {},
   "outputs": [
    {
     "data": {
      "text/plain": [
       "array([ 8, 10, 12, 14])"
      ]
     },
     "execution_count": 136,
     "metadata": {},
     "output_type": "execute_result"
    },
    {
     "data": {
      "text/plain": [
       "array([ 5, 13, 21])"
      ]
     },
     "execution_count": 136,
     "metadata": {},
     "output_type": "execute_result"
    }
   ],
   "source": [
    "#f\n",
    "# A1\n",
    "# print(A1[:,2:3])\n",
    "# print(A1[:,2])\n",
    "# print(A1[:,2:3]+1)\n",
    "# A1\n",
    "A1[1,:]\n",
    "A1[:, 2] + 1"
   ]
  },
  {
   "cell_type": "code",
   "execution_count": 53,
   "id": "2bdb8e52-0d9e-47d7-b45a-768f870cea21",
   "metadata": {},
   "outputs": [
    {
     "name": "stdout",
     "output_type": "stream",
     "text": [
      "1\n"
     ]
    }
   ],
   "source": [
    "print(B1[0,0])"
   ]
  },
  {
   "cell_type": "markdown",
   "id": "1194d490-9207-4c58-89fb-d8784bddfc56",
   "metadata": {},
   "source": [
    "## Q3"
   ]
  },
  {
   "cell_type": "code",
   "execution_count": 109,
   "id": "5b8c4d4d-9017-42c9-8560-4e76cc0ad304",
   "metadata": {},
   "outputs": [
    {
     "data": {
      "text/plain": [
       "array([0.47502887, 0.57218728, 0.95384729, 0.73870219, 0.22431829,\n",
       "       0.55641676, 0.32292185, 0.81711772, 0.56380251, 0.35826335])"
      ]
     },
     "execution_count": 109,
     "metadata": {},
     "output_type": "execute_result"
    }
   ],
   "source": [
    "#a\n",
    "A2 = np.random.random([10])\n",
    "A2"
   ]
  },
  {
   "cell_type": "code",
   "execution_count": 110,
   "id": "867351a7-a8b4-4a26-9c54-50b9fc97a27a",
   "metadata": {},
   "outputs": [
    {
     "name": "stdout",
     "output_type": "stream",
     "text": [
      "Values greater than 0.5 is 6 and Values less than 0.5 is 4.\n"
     ]
    }
   ],
   "source": [
    "#b\n",
    "lt, gt = 0,0\n",
    "for i in A2:\n",
    "    # print(i)\n",
    "    if i>=0.5:\n",
    "        # print(f\"Greater than or equal to 0.5: \",i)\n",
    "        gt+=1\n",
    "    else:\n",
    "        # print(f\"Less than 0.5: \",i)\n",
    "        lt+=1\n",
    "\n",
    "print(f\"Values greater than 0.5 is {gt} and Values less than 0.5 is {lt}.\")"
   ]
  },
  {
   "cell_type": "code",
   "execution_count": 157,
   "id": "41870ae0-1c6c-4447-af5f-9309657a6390",
   "metadata": {},
   "outputs": [
    {
     "data": {
      "text/plain": [
       "array([False,  True,  True,  True, False,  True, False,  True,  True,\n",
       "       False])"
      ]
     },
     "execution_count": 157,
     "metadata": {},
     "output_type": "execute_result"
    },
    {
     "data": {
      "text/plain": [
       "6"
      ]
     },
     "execution_count": 157,
     "metadata": {},
     "output_type": "execute_result"
    },
    {
     "data": {
      "text/plain": [
       "10"
      ]
     },
     "execution_count": 157,
     "metadata": {},
     "output_type": "execute_result"
    },
    {
     "name": "stdout",
     "output_type": "stream",
     "text": [
      "Number greater than or equal to 0.5 is:  6\n"
     ]
    }
   ],
   "source": [
    "# np.where(A2 < 0.5)\n",
    "A2 >= 0.5\n",
    "np.sum(A2>=0.5)\n",
    "np.size(A2)\n",
    "\n",
    "print(f\"Number greater than or equal to 0.5 is: \", np.sum(A2>=0.5))"
   ]
  },
  {
   "cell_type": "code",
   "execution_count": 112,
   "id": "b77e033e-30c9-4e49-9415-03dc1bebfe6c",
   "metadata": {},
   "outputs": [
    {
     "name": "stdout",
     "output_type": "stream",
     "text": [
      "5.582606097873022\n"
     ]
    }
   ],
   "source": [
    "#c\n",
    "print(np.sum(A2))"
   ]
  },
  {
   "cell_type": "code",
   "execution_count": 184,
   "id": "e9928847-50d2-4811-9b00-8606388e654a",
   "metadata": {},
   "outputs": [
    {
     "name": "stdout",
     "output_type": "stream",
     "text": [
      "[0.22431829 0.32292185 0.35826335 0.47502887 0.55641676 0.56380251\n",
      " 0.57218728 0.73870219 0.81711772 0.95384729]\n"
     ]
    },
    {
     "data": {
      "text/plain": [
       "array([0.95384729, 0.81711772, 0.73870219, 0.57218728, 0.56380251,\n",
       "       0.55641676, 0.47502887, 0.35826335, 0.32292185, 0.22431829])"
      ]
     },
     "execution_count": 184,
     "metadata": {},
     "output_type": "execute_result"
    }
   ],
   "source": [
    "#d\n",
    "print(np.sort(A2))\n",
    "#to reverse the values in array\n",
    "# print(-np.sort(-A2))\n",
    "np.flip(np.sort(A2))"
   ]
  },
  {
   "cell_type": "code",
   "execution_count": 177,
   "id": "7c21e34f-50fb-486b-940c-cde66745b298",
   "metadata": {},
   "outputs": [
    {
     "data": {
      "text/plain": [
       "array([0.22431829, 0.32292185, 0.35826335, 0.47502887, 0.55641676,\n",
       "       0.56380251, 0.57218728, 0.73870219, 0.81711772, 0.95384729])"
      ]
     },
     "execution_count": 177,
     "metadata": {},
     "output_type": "execute_result"
    }
   ],
   "source": [
    "## Additional notes\n",
    "A2.sort()\n",
    "A2"
   ]
  },
  {
   "cell_type": "code",
   "execution_count": 190,
   "id": "9d0f8d88-17de-4bca-ad00-c5a2ffadd4e9",
   "metadata": {},
   "outputs": [
    {
     "data": {
      "text/plain": [
       "array([7.03473183, 5.08809128, 6.1227133 , 5.87206977, 7.1818241 ,\n",
       "       7.2096519 , 6.70703543, 5.0149177 , 5.03443981, 6.1741769 ])"
      ]
     },
     "execution_count": 190,
     "metadata": {},
     "output_type": "execute_result"
    }
   ],
   "source": [
    "A3 = np.random.random(10)\n",
    "3*A3 + 5"
   ]
  },
  {
   "cell_type": "code",
   "execution_count": 206,
   "id": "58c9bc3e-75f9-4dbb-be8e-11fffd1fe438",
   "metadata": {},
   "outputs": [
    {
     "data": {
      "text/plain": [
       "array([ 1,  3,  5,  7,  9, 11, 13, 15, 17, 19, 21, 23, 25, 27, 29, 31, 33,\n",
       "       35, 37, 39, 41, 43, 45, 47, 49, 51, 53, 55, 57, 59, 61, 63, 65, 67,\n",
       "       69, 71, 73, 75, 77, 79, 81, 83, 85, 87, 89, 91, 93, 95, 97, 99])"
      ]
     },
     "execution_count": 206,
     "metadata": {},
     "output_type": "execute_result"
    }
   ],
   "source": [
    "np.arange(1,100,2)"
   ]
  }
 ],
 "metadata": {
  "kernelspec": {
   "display_name": "Python 3 (ipykernel)",
   "language": "python",
   "name": "python3"
  },
  "language_info": {
   "codemirror_mode": {
    "name": "ipython",
    "version": 3
   },
   "file_extension": ".py",
   "mimetype": "text/x-python",
   "name": "python",
   "nbconvert_exporter": "python",
   "pygments_lexer": "ipython3",
   "version": "3.8.13"
  }
 },
 "nbformat": 4,
 "nbformat_minor": 5
}
