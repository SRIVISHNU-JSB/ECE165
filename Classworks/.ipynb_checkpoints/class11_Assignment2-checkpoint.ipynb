{
 "cells": [
  {
   "cell_type": "markdown",
   "id": "559e4b4a",
   "metadata": {},
   "source": [
    "### Lab Assignment 5"
   ]
  },
  {
   "cell_type": "markdown",
   "id": "9d138274",
   "metadata": {},
   "source": [
    "#### Q4"
   ]
  },
  {
   "cell_type": "code",
   "execution_count": null,
   "id": "ad2a9595",
   "metadata": {},
   "outputs": [],
   "source": [
    "import numpy as np"
   ]
  },
  {
   "cell_type": "code",
   "execution_count": 11,
   "id": "7f5f5cd0",
   "metadata": {},
   "outputs": [
    {
     "data": {
      "text/plain": [
       "[1,\n",
       " 2,\n",
       " 3,\n",
       " 4,\n",
       " 5,\n",
       " 6,\n",
       " 7,\n",
       " 8,\n",
       " 9,\n",
       " 10,\n",
       " 11,\n",
       " 12,\n",
       " 13,\n",
       " 14,\n",
       " 15,\n",
       " 16,\n",
       " 17,\n",
       " 18,\n",
       " 19,\n",
       " 20,\n",
       " 21,\n",
       " 22,\n",
       " 23,\n",
       " 24,\n",
       " 25]"
      ]
     },
     "execution_count": 11,
     "metadata": {},
     "output_type": "execute_result"
    }
   ],
   "source": [
    "roll_number = list(range(1,26))\n",
    "roll_number"
   ]
  },
  {
   "cell_type": "code",
   "execution_count": 14,
   "id": "5693ba11",
   "metadata": {},
   "outputs": [
    {
     "data": {
      "text/plain": [
       "[8.165281868912366,\n",
       " 14.811836386331,\n",
       " 94.88402162992502,\n",
       " 14.129721330603463,\n",
       " 35.49640734504358,\n",
       " 89.69159188168699,\n",
       " 25.957734237630405,\n",
       " 56.39029099404597,\n",
       " 36.35583314787992,\n",
       " 22.666632566513446,\n",
       " 16.539123214782336,\n",
       " 55.6628238966553,\n",
       " 54.239516942698465,\n",
       " 12.304056419566134,\n",
       " 16.090806429528616,\n",
       " 73.39108937571558,\n",
       " 73.4047527200131,\n",
       " 40.43283797229334,\n",
       " 47.907735518779404,\n",
       " 48.72030428813675,\n",
       " 77.11688144800469,\n",
       " 20.933543171479375,\n",
       " 23.96276259649429,\n",
       " 53.19991039951438,\n",
       " 18.36791434845555]"
      ]
     },
     "execution_count": 14,
     "metadata": {},
     "output_type": "execute_result"
    }
   ],
   "source": [
    "percent = list(np.random.random(25)*100)\n",
    "percent"
   ]
  },
  {
   "cell_type": "code",
   "execution_count": 19,
   "id": "322bebf1",
   "metadata": {},
   "outputs": [
    {
     "data": {
      "text/plain": [
       "{1: 8.165281868912366,\n",
       " 2: 14.811836386331,\n",
       " 3: 94.88402162992502,\n",
       " 4: 14.129721330603463,\n",
       " 5: 35.49640734504358,\n",
       " 6: 89.69159188168699,\n",
       " 7: 25.957734237630405,\n",
       " 8: 56.39029099404597,\n",
       " 9: 36.35583314787992,\n",
       " 10: 22.666632566513446,\n",
       " 11: 16.539123214782336,\n",
       " 12: 55.6628238966553,\n",
       " 13: 54.239516942698465,\n",
       " 14: 12.304056419566134,\n",
       " 15: 16.090806429528616,\n",
       " 16: 73.39108937571558,\n",
       " 17: 73.4047527200131,\n",
       " 18: 40.43283797229334,\n",
       " 19: 47.907735518779404,\n",
       " 20: 48.72030428813675,\n",
       " 21: 77.11688144800469,\n",
       " 22: 20.933543171479375,\n",
       " 23: 23.96276259649429,\n",
       " 24: 53.19991039951438,\n",
       " 25: 18.36791434845555}"
      ]
     },
     "execution_count": 19,
     "metadata": {},
     "output_type": "execute_result"
    }
   ],
   "source": [
    "d = {}\n",
    "for r,p in zip(roll_number, percent):\n",
    "    d[r] = p\n",
    "\n",
    "d"
   ]
  },
  {
   "cell_type": "code",
   "execution_count": 96,
   "id": "aaa24ca9",
   "metadata": {
    "scrolled": true
   },
   "outputs": [
    {
     "data": {
      "text/plain": [
       "{1: 8.165281868912366,\n",
       " 2: 14.811836386331,\n",
       " 3: 94.88402162992502,\n",
       " 4: 14.129721330603463,\n",
       " 5: 35.49640734504358,\n",
       " 6: 89.69159188168699,\n",
       " 7: 25.957734237630405,\n",
       " 8: 56.39029099404597,\n",
       " 9: 36.35583314787992,\n",
       " 10: 22.666632566513446,\n",
       " 11: 16.539123214782336,\n",
       " 12: 55.6628238966553,\n",
       " 13: 54.239516942698465,\n",
       " 14: 12.304056419566134,\n",
       " 15: 16.090806429528616,\n",
       " 16: 73.39108937571558,\n",
       " 17: 73.4047527200131,\n",
       " 18: 40.43283797229334,\n",
       " 19: 47.907735518779404,\n",
       " 20: 48.72030428813675,\n",
       " 21: 77.11688144800469,\n",
       " 22: 20.933543171479375,\n",
       " 23: 23.96276259649429,\n",
       " 24: 53.19991039951438,\n",
       " 25: 18.36791434845555}"
      ]
     },
     "execution_count": 96,
     "metadata": {},
     "output_type": "execute_result"
    }
   ],
   "source": [
    "data = {k: v for k, v in zip(roll_number, percent)}\n",
    "data"
   ]
  },
  {
   "cell_type": "code",
   "execution_count": 97,
   "id": "4d383fac",
   "metadata": {
    "scrolled": true
   },
   "outputs": [
    {
     "data": {
      "text/plain": [
       "[8.165281868912366,\n",
       " 14.811836386331,\n",
       " 94.88402162992502,\n",
       " 14.129721330603463,\n",
       " 35.49640734504358,\n",
       " 89.69159188168699,\n",
       " 25.957734237630405,\n",
       " 56.39029099404597,\n",
       " 36.35583314787992,\n",
       " 22.666632566513446,\n",
       " 16.539123214782336,\n",
       " 55.6628238966553,\n",
       " 54.239516942698465,\n",
       " 12.304056419566134,\n",
       " 16.090806429528616,\n",
       " 73.39108937571558,\n",
       " 73.4047527200131,\n",
       " 40.43283797229334,\n",
       " 47.907735518779404,\n",
       " 48.72030428813675,\n",
       " 77.11688144800469,\n",
       " 20.933543171479375,\n",
       " 23.96276259649429,\n",
       " 53.19991039951438,\n",
       " 18.36791434845555]"
      ]
     },
     "execution_count": 97,
     "metadata": {},
     "output_type": "execute_result"
    }
   ],
   "source": [
    "list_rn1=list(data.values())\n",
    "list_rn1"
   ]
  },
  {
   "cell_type": "code",
   "execution_count": 98,
   "id": "28c860f3",
   "metadata": {
    "scrolled": true
   },
   "outputs": [
    {
     "data": {
      "text/plain": [
       "[25,\n",
       " 24,\n",
       " 23,\n",
       " 22,\n",
       " 21,\n",
       " 20,\n",
       " 19,\n",
       " 18,\n",
       " 17,\n",
       " 16,\n",
       " 15,\n",
       " 14,\n",
       " 13,\n",
       " 12,\n",
       " 11,\n",
       " 10,\n",
       " 9,\n",
       " 8,\n",
       " 7,\n",
       " 6,\n",
       " 5,\n",
       " 4,\n",
       " 3,\n",
       " 2,\n",
       " 1]"
      ]
     },
     "execution_count": 98,
     "metadata": {},
     "output_type": "execute_result"
    }
   ],
   "source": [
    "# sorted(data.values())\n",
    "# sorted(data.keys())\n",
    "# sorted(roll_number,reverse=True)\n",
    "sorted(data.keys(),reverse=True)"
   ]
  },
  {
   "cell_type": "code",
   "execution_count": 99,
   "id": "4ab945bc",
   "metadata": {},
   "outputs": [
    {
     "data": {
      "text/plain": [
       "77.11688144800469"
      ]
     },
     "execution_count": 99,
     "metadata": {},
     "output_type": "execute_result"
    }
   ],
   "source": [
    "data[21]"
   ]
  },
  {
   "cell_type": "code",
   "execution_count": 100,
   "id": "473fcf8e",
   "metadata": {
    "scrolled": true
   },
   "outputs": [
    {
     "data": {
      "text/plain": [
       "{1: 8.165281868912366,\n",
       " 2: 14.811836386331,\n",
       " 3: 94.88402162992502,\n",
       " 4: 14.129721330603463,\n",
       " 5: 35.49640734504358,\n",
       " 6: 89.69159188168699,\n",
       " 7: 25.957734237630405,\n",
       " 8: 56.39029099404597,\n",
       " 9: 36.35583314787992,\n",
       " 10: 22.666632566513446,\n",
       " 11: 16.539123214782336,\n",
       " 12: 55.6628238966553,\n",
       " 13: 54.239516942698465,\n",
       " 14: 12.304056419566134,\n",
       " 15: 16.090806429528616,\n",
       " 16: 73.39108937571558,\n",
       " 17: 73.4047527200131,\n",
       " 18: 40.43283797229334,\n",
       " 19: 47.907735518779404,\n",
       " 20: 48.72030428813675,\n",
       " 21: 77.11688144800469,\n",
       " 22: 20.933543171479375,\n",
       " 23: 23.96276259649429,\n",
       " 24: 53.19991039951438,\n",
       " 25: 18.36791434845555}"
      ]
     },
     "execution_count": 100,
     "metadata": {},
     "output_type": "execute_result"
    },
    {
     "data": {
      "text/plain": [
       "dict_items([(1, 8.165281868912366), (2, 14.811836386331), (3, 94.88402162992502), (4, 14.129721330603463), (5, 35.49640734504358), (6, 89.69159188168699), (7, 25.957734237630405), (8, 56.39029099404597), (9, 36.35583314787992), (10, 22.666632566513446), (11, 16.539123214782336), (12, 55.6628238966553), (13, 54.239516942698465), (14, 12.304056419566134), (15, 16.090806429528616), (16, 73.39108937571558), (17, 73.4047527200131), (18, 40.43283797229334), (19, 47.907735518779404), (20, 48.72030428813675), (21, 77.11688144800469), (22, 20.933543171479375), (23, 23.96276259649429), (24, 53.19991039951438), (25, 18.36791434845555)])"
      ]
     },
     "execution_count": 100,
     "metadata": {},
     "output_type": "execute_result"
    }
   ],
   "source": [
    "# {k: v for k, v in sorted(data.items(), key=lambda item: item[1])}\n",
    "{k: v for k, v in sorted(data.items(), key=lambda item: item[0])}\n",
    "data.items()"
   ]
  },
  {
   "cell_type": "code",
   "execution_count": 115,
   "id": "f91c6634",
   "metadata": {},
   "outputs": [
    {
     "data": {
      "text/plain": [
       "{1: 8.165281868912366,\n",
       " 2: 14.811836386331,\n",
       " 3: 94.88402162992502,\n",
       " 4: 14.129721330603463,\n",
       " 5: 35.49640734504358,\n",
       " 6: 89.69159188168699,\n",
       " 7: 25.957734237630405,\n",
       " 8: 56.39029099404597,\n",
       " 9: 36.35583314787992,\n",
       " 10: 22.666632566513446,\n",
       " 11: 87.32,\n",
       " 12: 55.6628238966553,\n",
       " 13: 54.239516942698465,\n",
       " 14: 12.304056419566134,\n",
       " 15: 16.090806429528616,\n",
       " 16: 73.39108937571558,\n",
       " 17: 73.4047527200131,\n",
       " 18: 40.43283797229334,\n",
       " 19: 47.907735518779404,\n",
       " 20: 48.72030428813675,\n",
       " 21: 77.11688144800469,\n",
       " 22: 20.933543171479375,\n",
       " 23: 23.96276259649429,\n",
       " 24: 53.19991039951438,\n",
       " 25: 18.36791434845555,\n",
       " 31: 87.32,\n",
       " 26: 88.99}"
      ]
     },
     "execution_count": 115,
     "metadata": {},
     "output_type": "execute_result"
    }
   ],
   "source": [
    "# data.items()\n",
    "data.update({11:87.32})\n",
    "# data.update({31:87.32})\n",
    "data.update({26:88.99})\n",
    "data\n",
    "# dict.fromkeys(data)\n",
    "# dict.fromkeys(data,18.36791434845555)"
   ]
  },
  {
   "cell_type": "code",
   "execution_count": 120,
   "id": "c5d3f000",
   "metadata": {},
   "outputs": [
    {
     "ename": "KeyError",
     "evalue": "'31'",
     "output_type": "error",
     "traceback": [
      "\u001b[0;31m---------------------------------------------------------------------------\u001b[0m",
      "\u001b[0;31mKeyError\u001b[0m                                  Traceback (most recent call last)",
      "Input \u001b[0;32mIn [120]\u001b[0m, in \u001b[0;36m<cell line: 1>\u001b[0;34m()\u001b[0m\n\u001b[0;32m----> 1\u001b[0m \u001b[43mdata\u001b[49m\u001b[38;5;241;43m.\u001b[39;49m\u001b[43mpop\u001b[49m\u001b[43m(\u001b[49m\u001b[38;5;124;43m\"\u001b[39;49m\u001b[38;5;124;43m31\u001b[39;49m\u001b[38;5;124;43m\"\u001b[39;49m\u001b[43m)\u001b[49m\n\u001b[1;32m      2\u001b[0m data\u001b[38;5;241m.\u001b[39mpopitem()\n",
      "\u001b[0;31mKeyError\u001b[0m: '31'"
     ]
    }
   ],
   "source": [
    "# data.pop(\"31\")\n",
    "data.popitem()\n",
    "# del data[31]"
   ]
  },
  {
   "cell_type": "code",
   "execution_count": 110,
   "id": "1a9089ae",
   "metadata": {},
   "outputs": [
    {
     "data": {
      "text/plain": [
       "20.933543171479375"
      ]
     },
     "execution_count": 110,
     "metadata": {},
     "output_type": "execute_result"
    },
    {
     "data": {
      "text/plain": [
       "20.933543171479375"
      ]
     },
     "execution_count": 110,
     "metadata": {},
     "output_type": "execute_result"
    }
   ],
   "source": [
    "data[22]\n",
    "data.get(22)"
   ]
  },
  {
   "cell_type": "code",
   "execution_count": null,
   "id": "7550fee0",
   "metadata": {},
   "outputs": [],
   "source": []
  },
  {
   "cell_type": "markdown",
   "id": "c7d08027",
   "metadata": {},
   "source": [
    "#### Q5"
   ]
  },
  {
   "cell_type": "code",
   "execution_count": 174,
   "id": "a9c58c53",
   "metadata": {},
   "outputs": [
    {
     "name": "stdout",
     "output_type": "stream",
     "text": [
      "[7, 8]\n"
     ]
    }
   ],
   "source": [
    "data = [[[1, 2], [3, 4]], [[5, 6], [7, 8]]] \n",
    "\n",
    "def fun(m):\n",
    "    v = m[0][0]\n",
    "#     print(v)\n",
    "    for row in m:\n",
    "#         print(row)\n",
    "        for element in row:\n",
    "#             print(element)\n",
    "            if v < element: \n",
    "                v = element\n",
    "#                 print(v)\n",
    "    return v\n",
    "# data[0]\n",
    "# data[0][0]\n",
    "# data[0][0][0]\n",
    "# print(fun(data[0]))b\n",
    "# print(fun(data[1]))\n",
    "# print(fun(data))"
   ]
  },
  {
   "cell_type": "code",
   "execution_count": 177,
   "id": "1e539d5b",
   "metadata": {},
   "outputs": [
    {
     "name": "stdout",
     "output_type": "stream",
     "text": [
      "1\n"
     ]
    },
    {
     "ename": "TypeError",
     "evalue": "'<' not supported between instances of 'list' and 'int'",
     "output_type": "error",
     "traceback": [
      "\u001b[0;31m---------------------------------------------------------------------------\u001b[0m",
      "\u001b[0;31mTypeError\u001b[0m                                 Traceback (most recent call last)",
      "Input \u001b[0;32mIn [177]\u001b[0m, in \u001b[0;36m<cell line: 21>\u001b[0;34m()\u001b[0m\n\u001b[1;32m     15\u001b[0m     \u001b[38;5;28;01mreturn\u001b[39;00m v\n\u001b[1;32m     16\u001b[0m \u001b[38;5;66;03m# data[0]\u001b[39;00m\n\u001b[1;32m     17\u001b[0m \u001b[38;5;66;03m# data[0][0]\u001b[39;00m\n\u001b[1;32m     18\u001b[0m \u001b[38;5;66;03m# data[0][0][0]\u001b[39;00m\n\u001b[1;32m     19\u001b[0m \u001b[38;5;66;03m# print(fun(data[0]))\u001b[39;00m\n\u001b[1;32m     20\u001b[0m \u001b[38;5;66;03m# print(fun(data[1]))\u001b[39;00m\n\u001b[0;32m---> 21\u001b[0m \u001b[38;5;28mprint\u001b[39m(\u001b[43mfun\u001b[49m\u001b[43m(\u001b[49m\u001b[43mdata\u001b[49m\u001b[43m)\u001b[49m)\n",
      "Input \u001b[0;32mIn [177]\u001b[0m, in \u001b[0;36mfun\u001b[0;34m(m)\u001b[0m\n\u001b[1;32m     10\u001b[0m         \u001b[38;5;28;01mfor\u001b[39;00m element \u001b[38;5;129;01min\u001b[39;00m row:\n\u001b[1;32m     11\u001b[0m             \u001b[38;5;28mprint\u001b[39m(element)\n\u001b[0;32m---> 12\u001b[0m             \u001b[38;5;28;01mif\u001b[39;00m \u001b[43mv\u001b[49m\u001b[43m \u001b[49m\u001b[38;5;241;43m<\u001b[39;49m\u001b[43m \u001b[49m\u001b[43melement\u001b[49m: \n\u001b[1;32m     13\u001b[0m                 v \u001b[38;5;241m=\u001b[39m element\n\u001b[1;32m     14\u001b[0m \u001b[38;5;66;03m#                 print(v)\u001b[39;00m\n",
      "\u001b[0;31mTypeError\u001b[0m: '<' not supported between instances of 'list' and 'int'"
     ]
    }
   ],
   "source": [
    "data = [[[1, 2], [3, 4]], [[5, 6], [7, 8]]] \n",
    "\n",
    "def fun(m):\n",
    "    v = m[0][0]\n",
    "#     print(v)\n",
    "\n",
    "    for matrix in m:\n",
    "#         print(row)\n",
    "        for row in matrix:\n",
    "            for element in row:\n",
    "                print(element)\n",
    "                if v < element: \n",
    "                    v = element\n",
    "    #                 print(v)\n",
    "    return v\n",
    "# data[0]\n",
    "# data[0][0]\n",
    "# data[0][0][0]\n",
    "# print(fun(data[0]))\n",
    "# print(fun(data[1]))\n",
    "print(fun(data))"
   ]
  }
 ],
 "metadata": {
  "kernelspec": {
   "display_name": "Python 3 (ipykernel)",
   "language": "python",
   "name": "python3"
  },
  "language_info": {
   "codemirror_mode": {
    "name": "ipython",
    "version": 3
   },
   "file_extension": ".py",
   "mimetype": "text/x-python",
   "name": "python",
   "nbconvert_exporter": "python",
   "pygments_lexer": "ipython3",
   "version": "3.9.12"
  }
 },
 "nbformat": 4,
 "nbformat_minor": 5
}
