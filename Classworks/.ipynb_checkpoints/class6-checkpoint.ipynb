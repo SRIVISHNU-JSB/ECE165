{
 "cells": [
  {
   "cell_type": "markdown",
   "id": "1b8a4243",
   "metadata": {},
   "source": [
    "### Features of in-built Functions\n",
    "Date: August 19, 2022 at 10-12\n"
   ]
  },
  {
   "cell_type": "code",
   "execution_count": null,
   "id": "4455edca",
   "metadata": {},
   "outputs": [],
   "source": [
    "#!/bin/python3\n",
    "\n",
    "import math\n",
    "import os\n",
    "import random\n",
    "import re\n",
    "import sys\n",
    "\n",
    "\n",
    "\n",
    "if __name__ == '__main__':\n",
    "    n = int(input().strip())\n",
    "    if (n%2!=0):\n",
    "        print(\"Weird\")\n",
    "    else:\n",
    "        if(2<=n<=5):\n",
    "            print(\"Not Weird\")\n",
    "        elif(6<=n<=20):\n",
    "            print(\"Weird\")\n",
    "        elif(n>20):\n",
    "            print(\"Not Weird\")\n"
   ]
  },
  {
   "cell_type": "code",
   "execution_count": 4,
   "id": "1b1339b0",
   "metadata": {},
   "outputs": [
    {
     "name": "stdout",
     "output_type": "stream",
     "text": [
      "2024\n",
      "False\n"
     ]
    }
   ],
   "source": [
    "def is_leap(year):\n",
    "    leap = False\n",
    "    \n",
    "    # Write your logic here\n",
    "#     if((year%400==0) or (year%100!=0) and (year%4==0)):\n",
    "#         leap = True\n",
    "#     if((year%4==0) and (year%100!=0) or (year%400==0)):\n",
    "#         leap = True\n",
    "    if(year%4==0):\n",
    "        if(year%100!=0):\n",
    "            if(year%400==0):\n",
    "                leap = True\n",
    "    return leap\n",
    "\n",
    "year = int(input())\n",
    "print(is_leap(year))"
   ]
  },
  {
   "cell_type": "code",
   "execution_count": 5,
   "id": "b75406c1",
   "metadata": {},
   "outputs": [
    {
     "name": "stdout",
     "output_type": "stream",
     "text": [
      "5\n",
      "12345\n"
     ]
    }
   ],
   "source": [
    "if __name__ == '__main__':\n",
    "    n = int(input())\n",
    "    print(*range(1,n+1), sep='')\n",
    "    # for i in range(1,n+1):\n",
    "    #     print(i, end='')"
   ]
  },
  {
   "cell_type": "code",
   "execution_count": null,
   "id": "e8e7e297",
   "metadata": {},
   "outputs": [],
   "source": [
    "if __name__ == '__main__':\n",
    "    n = int(input())\n",
    "    arr = list(map(int, input().split()))\n",
    "    firstLargest = max(arr)\n",
    "\n",
    "    while True:\n",
    "        if firstLargest in arr:\n",
    "            # print(firstLargest)\n",
    "            arr.remove(firstLargest)\n",
    "        else:\n",
    "            break\n",
    "    print(max(arr))"
   ]
  }
 ],
 "metadata": {
  "kernelspec": {
   "display_name": "Python 3 (ipykernel)",
   "language": "python",
   "name": "python3"
  },
  "language_info": {
   "codemirror_mode": {
    "name": "ipython",
    "version": 3
   },
   "file_extension": ".py",
   "mimetype": "text/x-python",
   "name": "python",
   "nbconvert_exporter": "python",
   "pygments_lexer": "ipython3",
   "version": "3.9.12"
  }
 },
 "nbformat": 4,
 "nbformat_minor": 5
}
