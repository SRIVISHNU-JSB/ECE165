{
 "cells": [
  {
   "cell_type": "markdown",
   "id": "bbdb7f31-7df8-4173-876c-e7d0db2eaae4",
   "metadata": {},
   "source": [
    "## Python for Image Processing\n",
    "\n",
    "Date: August 31, 2022 at 13-15\n",
    "\n",
    "\n"
   ]
  },
  {
   "cell_type": "markdown",
   "id": "d1ca80cf-a1fd-4de4-b1f2-6a83f3350c03",
   "metadata": {},
   "source": [
    "### NumPy Introduction"
   ]
  },
  {
   "cell_type": "code",
   "execution_count": 7,
   "id": "64e64525-b13d-418e-96d8-70ff35a78733",
   "metadata": {},
   "outputs": [],
   "source": [
    "# To make all the variables visible in the outputs\n",
    "from IPython.core.interactiveshell import InteractiveShell\n",
    "InteractiveShell.ast_node_interactivity = \"all\""
   ]
  },
  {
   "cell_type": "code",
   "execution_count": 2,
   "id": "5016e4c6-d091-4e2d-bedf-9e0de06ba451",
   "metadata": {},
   "outputs": [
    {
     "name": "stdout",
     "output_type": "stream",
     "text": [
      "Hello\n"
     ]
    }
   ],
   "source": [
    "print('Hello')"
   ]
  },
  {
   "cell_type": "code",
   "execution_count": 3,
   "id": "2207c59b-adf8-4eda-b25a-aabfb6be8a76",
   "metadata": {},
   "outputs": [
    {
     "name": "stdout",
     "output_type": "stream",
     "text": [
      "1\n",
      "2\n",
      "3\n",
      "4\n"
     ]
    }
   ],
   "source": [
    "a = [1,2,3,4]\n",
    "for i in a:c\n",
    "    print(i)"
   ]
  },
  {
   "cell_type": "code",
   "execution_count": 4,
   "id": "fb97cdf7-1237-4f78-a8e4-45d8bba09fd6",
   "metadata": {},
   "outputs": [
    {
     "name": "stdout",
     "output_type": "stream",
     "text": [
      "1\n",
      "2\n",
      "3\n",
      "4\n",
      "5\n"
     ]
    }
   ],
   "source": [
    "b = (1,2,3,4,5)\n",
    "for i in b:\n",
    "    print(i)"
   ]
  },
  {
   "cell_type": "code",
   "execution_count": 5,
   "id": "a7e79674-6b94-4c9e-b95c-14fd48f18d3f",
   "metadata": {},
   "outputs": [],
   "source": [
    "import numpy as np"
   ]
  },
  {
   "cell_type": "code",
   "execution_count": 9,
   "id": "2836e255-34eb-4e61-8012-c52100b8f287",
   "metadata": {},
   "outputs": [
    {
     "data": {
      "text/plain": [
       "array([2, 5, 7, 9])"
      ]
     },
     "execution_count": 9,
     "metadata": {},
     "output_type": "execute_result"
    }
   ],
   "source": [
    "a = np.array( [2,5,7,9] )\n",
    "a"
   ]
  },
  {
   "cell_type": "code",
   "execution_count": 11,
   "id": "34f885c7-c67e-4564-9969-9de428e5bb96",
   "metadata": {},
   "outputs": [
    {
     "data": {
      "text/plain": [
       "array([4, 6, 8, 9])"
      ]
     },
     "execution_count": 11,
     "metadata": {},
     "output_type": "execute_result"
    }
   ],
   "source": [
    "b = np.array( (4,6,8,9) )\n",
    "b"
   ]
  },
  {
   "cell_type": "code",
   "execution_count": 12,
   "id": "21ef48a0-30dc-4275-a3fc-aa929f967595",
   "metadata": {},
   "outputs": [
    {
     "data": {
      "text/plain": [
       "array([-2, -1, -1,  0])"
      ]
     },
     "execution_count": 12,
     "metadata": {},
     "output_type": "execute_result"
    }
   ],
   "source": [
    "a - b"
   ]
  },
  {
   "cell_type": "code",
   "execution_count": 12,
   "id": "9a49ec27-c9d0-46fd-a196-5fcdc96548a5",
   "metadata": {},
   "outputs": [
    {
     "data": {
      "text/plain": [
       "array([-2, -1, -1,  0])"
      ]
     },
     "execution_count": 12,
     "metadata": {},
     "output_type": "execute_result"
    }
   ],
   "source": [
    "a + b"
   ]
  },
  {
   "cell_type": "code",
   "execution_count": 13,
   "id": "b8dfaa9d-32f9-419b-9532-252b1f424b58",
   "metadata": {},
   "outputs": [
    {
     "data": {
      "text/plain": [
       "array([ 8, 30, 56, 81])"
      ]
     },
     "execution_count": 13,
     "metadata": {},
     "output_type": "execute_result"
    }
   ],
   "source": [
    "a * b"
   ]
  },
  {
   "cell_type": "code",
   "execution_count": 24,
   "id": "776f5cc2-806b-4a54-82db-b4c456233a6e",
   "metadata": {},
   "outputs": [
    {
     "data": {
      "text/plain": [
       "array([[2, 4, 6],\n",
       "       [3, 5, 7],\n",
       "       [4, 6, 8]])"
      ]
     },
     "execution_count": 24,
     "metadata": {},
     "output_type": "execute_result"
    }
   ],
   "source": [
    "A = np.array( [[2,4,6], [3,5,7], [4,6,8]] )\n",
    "A"
   ]
  },
  {
   "cell_type": "code",
   "execution_count": 34,
   "id": "ffd7da56-38de-470a-9c67-66cdcb341504",
   "metadata": {},
   "outputs": [
    {
     "data": {
      "text/plain": [
       "array([[5, 7],\n",
       "       [6, 8]])"
      ]
     },
     "execution_count": 34,
     "metadata": {},
     "output_type": "execute_result"
    }
   ],
   "source": [
    "A[1:3, 1:3]"
   ]
  },
  {
   "cell_type": "code",
   "execution_count": 35,
   "id": "c23cd906-e750-492f-84c1-3742ec8872ff",
   "metadata": {},
   "outputs": [
    {
     "data": {
      "text/plain": [
       "array([[2, 4],\n",
       "       [3, 5]])"
      ]
     },
     "execution_count": 35,
     "metadata": {},
     "output_type": "execute_result"
    }
   ],
   "source": [
    "A[0:2, 0:2]"
   ]
  },
  {
   "cell_type": "code",
   "execution_count": 25,
   "id": "0e82e199-fa9c-4af1-9687-2cca339f709f",
   "metadata": {},
   "outputs": [
    {
     "data": {
      "text/plain": [
       "7"
      ]
     },
     "execution_count": 25,
     "metadata": {},
     "output_type": "execute_result"
    }
   ],
   "source": [
    "A[1][2]"
   ]
  },
  {
   "cell_type": "code",
   "execution_count": 26,
   "id": "f0765c04-e50b-4758-b792-e00b21e13d4a",
   "metadata": {},
   "outputs": [
    {
     "data": {
      "text/plain": [
       "7"
      ]
     },
     "execution_count": 26,
     "metadata": {},
     "output_type": "execute_result"
    }
   ],
   "source": [
    "A[1,2]"
   ]
  },
  {
   "cell_type": "code",
   "execution_count": 27,
   "id": "26977b87-c361-4621-a8d2-a389dc4dc201",
   "metadata": {},
   "outputs": [
    {
     "data": {
      "text/plain": [
       "array([], shape=(0, 3), dtype=int64)"
      ]
     },
     "execution_count": 27,
     "metadata": {},
     "output_type": "execute_result"
    }
   ],
   "source": [
    "A[1:2][1:2]"
   ]
  },
  {
   "cell_type": "code",
   "execution_count": 37,
   "id": "73fedc28-b640-4967-9f5b-3386bbcb34cc",
   "metadata": {},
   "outputs": [
    {
     "data": {
      "text/plain": [
       "array([[[ 2,  4,  6],\n",
       "        [ 3,  5,  7],\n",
       "        [ 4,  6,  8]],\n",
       "\n",
       "       [[ 4,  6,  8],\n",
       "        [ 5,  7,  9],\n",
       "        [ 6,  8, 10]]])"
      ]
     },
     "execution_count": 37,
     "metadata": {},
     "output_type": "execute_result"
    }
   ],
   "source": [
    "A3 = np.array([[[2,4,6], [3,5,7], [4,6,8]], [[4,6,8],[5,7,9],[6,8,10]]])\n",
    "A3"
   ]
  },
  {
   "cell_type": "code",
   "execution_count": 39,
   "id": "251eecb7-a514-42a1-a494-1e1347154735",
   "metadata": {},
   "outputs": [
    {
     "data": {
      "text/plain": [
       "array([2, 4, 6])"
      ]
     },
     "execution_count": 39,
     "metadata": {},
     "output_type": "execute_result"
    }
   ],
   "source": [
    "A3[0][0]"
   ]
  },
  {
   "cell_type": "code",
   "execution_count": 40,
   "id": "2abcc5a0-cde3-442a-9309-adbd760d8c4e",
   "metadata": {},
   "outputs": [
    {
     "data": {
      "text/plain": [
       "10"
      ]
     },
     "execution_count": 40,
     "metadata": {},
     "output_type": "execute_result"
    }
   ],
   "source": [
    "A3[1][2][2]"
   ]
  },
  {
   "cell_type": "code",
   "execution_count": 42,
   "id": "0e6fddf5-89f2-4eea-bcda-b477763183c3",
   "metadata": {},
   "outputs": [
    {
     "data": {
      "text/plain": [
       "array([[4, 6, 8],\n",
       "       [5, 7, 9]])"
      ]
     },
     "execution_count": 42,
     "metadata": {},
     "output_type": "execute_result"
    }
   ],
   "source": [
    "B = A3[1][0:2]\n",
    "B"
   ]
  },
  {
   "cell_type": "markdown",
   "id": "f2a705f3-5202-4fab-a79a-ecafdad020df",
   "metadata": {},
   "source": [
    "### What are the methods available in NumPy?\n",
    "1.Reshape .reshape()"
   ]
  },
  {
   "cell_type": "code",
   "execution_count": 47,
   "id": "51e392ab-d224-4e33-bad8-1d02e2bf8bcb",
   "metadata": {},
   "outputs": [
    {
     "data": {
      "text/plain": [
       "array([[4, 6],\n",
       "       [8, 5],\n",
       "       [7, 9]])"
      ]
     },
     "execution_count": 47,
     "metadata": {},
     "output_type": "execute_result"
    }
   ],
   "source": [
    "C = np.reshape(B, [3,2])\n",
    "C"
   ]
  },
  {
   "cell_type": "code",
   "execution_count": 49,
   "id": "76f0e98b-cdf0-456c-a193-fa28f6552a7b",
   "metadata": {},
   "outputs": [
    {
     "data": {
      "text/plain": [
       "array([[4, 6, 8, 5, 7, 9]])"
      ]
     },
     "execution_count": 49,
     "metadata": {},
     "output_type": "execute_result"
    }
   ],
   "source": [
    "D = B.reshape([1,6])\n",
    "D"
   ]
  },
  {
   "cell_type": "code",
   "execution_count": 51,
   "id": "5da6c35d-ef86-45e8-ac84-b8618f83dd55",
   "metadata": {},
   "outputs": [
    {
     "data": {
      "text/plain": [
       "numpy.ndarray"
      ]
     },
     "execution_count": 51,
     "metadata": {},
     "output_type": "execute_result"
    }
   ],
   "source": [
    "type(D)"
   ]
  },
  {
   "cell_type": "code",
   "execution_count": 67,
   "id": "0efb57f8-7bc9-422a-9c38-9b995b674be0",
   "metadata": {},
   "outputs": [
    {
     "data": {
      "text/plain": [
       "array([0, 1, 2, 3, 4, 5, 6, 7, 8, 9])"
      ]
     },
     "execution_count": 67,
     "metadata": {},
     "output_type": "execute_result"
    },
    {
     "name": "stdout",
     "output_type": "stream",
     "text": [
      "(2, 5)\n",
      "10\n",
      "2\n",
      "8\n"
     ]
    }
   ],
   "source": [
    "import numpy as np\n",
    "\n",
    "a = np.arange(10)\n",
    "a\n",
    "b = np.reshape( a, [2,5])\n",
    "\n",
    "print(b.shape)\n",
    "print(b.size)\n",
    "print(b.ndim)\n",
    "print(b.itemsize)"
   ]
  },
  {
   "cell_type": "markdown",
   "id": "d0b73d6c-ffbf-4cde-a286-dd4b884cab90",
   "metadata": {},
   "source": [
    "## Array Operations using NumPy"
   ]
  },
  {
   "cell_type": "code",
   "execution_count": 78,
   "id": "63f6e87d-4bb6-4335-a618-08c320aa5234",
   "metadata": {},
   "outputs": [
    {
     "name": "stdout",
     "output_type": "stream",
     "text": [
      "[0 1 2 3]\n",
      "[20 29 38 47]\n",
      "[0 1 4 9]\n",
      "[ 9.12945251 -9.88031624  7.4511316  -2.62374854]\n",
      "[ True  True False False]\n"
     ]
    }
   ],
   "source": [
    "a = np.array([20,30,40,50])\n",
    "b = np.arange(4)\n",
    "print(b)\n",
    "c = a-b\n",
    "print(c)\n",
    "d = b**2\n",
    "print(d)\n",
    "e = 10*np.sin(a)\n",
    "print(e)\n",
    "f = a<35\n",
    "print(f)"
   ]
  },
  {
   "cell_type": "code",
   "execution_count": 84,
   "id": "29c22f54-39b6-431a-a394-3f5dfba840ac",
   "metadata": {},
   "outputs": [
    {
     "name": "stdout",
     "output_type": "stream",
     "text": [
      "[0 1 2 3]\n",
      "[20 29 38 47]\n",
      "[0 1 4 9]\n"
     ]
    },
    {
     "data": {
      "text/plain": [
       "array([20, 30, 40, 50])"
      ]
     },
     "execution_count": 84,
     "metadata": {},
     "output_type": "execute_result"
    },
    {
     "name": "stdout",
     "output_type": "stream",
     "text": [
      "[ 9.12945251 -9.88031624  7.4511316  -2.62374854]\n",
      "[ True  True False False]\n",
      "[  0  30  80 150]\n"
     ]
    }
   ],
   "source": [
    "import math\n",
    "a = np.array([20,30,40,50])\n",
    "b = np.arange(4)\n",
    "print(b)\n",
    "c = a-b\n",
    "print(c)\n",
    "d = b**2\n",
    "print(d)\n",
    "# e = 10*np.sin(a)\n",
    "a\n",
    "# e = 10*math.sin(a)\n",
    "print(e)\n",
    "f = a<35\n",
    "print(f)\n",
    "g = a*b\n",
    "print(g)"
   ]
  },
  {
   "cell_type": "markdown",
   "id": "6176f701-3f95-4a67-8359-c399ff773740",
   "metadata": {},
   "source": [
    "### Matrix Elementwise Product"
   ]
  },
  {
   "cell_type": "code",
   "execution_count": 85,
   "id": "89e6c3f9-7bf6-49aa-87fe-66a682603d4c",
   "metadata": {},
   "outputs": [
    {
     "data": {
      "text/plain": [
       "array([[2, 0],\n",
       "       [0, 4]])"
      ]
     },
     "execution_count": 85,
     "metadata": {},
     "output_type": "execute_result"
    }
   ],
   "source": [
    "A = np.array([[1,1],[0,1]])\n",
    "B = np.array([[2,0],[3,4]])\n",
    "A*B"
   ]
  },
  {
   "cell_type": "markdown",
   "id": "1f441571-22c1-40e1-9ad8-870dfd1bf7f0",
   "metadata": {},
   "source": [
    "### Matrix Product"
   ]
  },
  {
   "cell_type": "code",
   "execution_count": 86,
   "id": "5df50500-913d-4d55-adb6-93ab5be60909",
   "metadata": {},
   "outputs": [
    {
     "data": {
      "text/plain": [
       "array([[5, 4],\n",
       "       [3, 4]])"
      ]
     },
     "execution_count": 86,
     "metadata": {},
     "output_type": "execute_result"
    }
   ],
   "source": [
    "A = np.array([[1,1],[0,1]])\n",
    "B = np.array([[2,0],[3,4]])\n",
    "A@B"
   ]
  },
  {
   "cell_type": "markdown",
   "id": "b10d1b67-894b-4ceb-a7da-b85447d16bcb",
   "metadata": {},
   "source": [
    "### Another method for Matrix Product"
   ]
  },
  {
   "cell_type": "code",
   "execution_count": 91,
   "id": "92bcf5f0-5e4a-4e01-8535-e776c015374c",
   "metadata": {},
   "outputs": [
    {
     "data": {
      "text/plain": [
       "array([[5, 4],\n",
       "       [3, 4]])"
      ]
     },
     "execution_count": 91,
     "metadata": {},
     "output_type": "execute_result"
    },
    {
     "data": {
      "text/plain": [
       "array([[5, 4],\n",
       "       [3, 4]])"
      ]
     },
     "execution_count": 91,
     "metadata": {},
     "output_type": "execute_result"
    }
   ],
   "source": [
    "# A.dot(B)\n",
    "np.dot(A,B)"
   ]
  },
  {
   "cell_type": "code",
   "execution_count": 93,
   "id": "568ab001-82cb-4bd0-83a6-2d54c1c9c497",
   "metadata": {},
   "outputs": [
    {
     "name": "stdout",
     "output_type": "stream",
     "text": [
      "[ 4 15 30 49]\n"
     ]
    }
   ],
   "source": [
    "a = np.array([1,3,5,7])\n",
    "b = np.arange(4,8)\n",
    "print(a*b)"
   ]
  },
  {
   "cell_type": "markdown",
   "id": "a6acc7ef-1b16-4e5e-b1d4-ab113514f2b8",
   "metadata": {},
   "source": [
    "### More Attributes of NumPy library"
   ]
  },
  {
   "cell_type": "code",
   "execution_count": 100,
   "id": "9745c653-2019-40cd-94c6-1d59825da979",
   "metadata": {},
   "outputs": [
    {
     "name": "stdout",
     "output_type": "stream",
     "text": [
      "[[1 1 1 1]\n",
      " [1 1 1 1]\n",
      " [1 1 1 1]]\n"
     ]
    }
   ],
   "source": [
    "A1 = np.ones([3,4], dtype='int16')\n",
    "# A1\n",
    "print(A1)"
   ]
  },
  {
   "cell_type": "code",
   "execution_count": 104,
   "id": "33de68fc-d7d5-43dd-bd9c-50e41e77c485",
   "metadata": {},
   "outputs": [
    {
     "name": "stdout",
     "output_type": "stream",
     "text": [
      "[[0 0 0 0]\n",
      " [0 0 0 0]\n",
      " [0 0 0 0]]\n"
     ]
    }
   ],
   "source": [
    "B1 = np.zeros([3,4], dtype='int32')\n",
    "# B1\n",
    "print(B1)"
   ]
  },
  {
   "cell_type": "code",
   "execution_count": 110,
   "id": "f459e0e6-2ca6-4c82-8b45-0ca2642dce90",
   "metadata": {},
   "outputs": [
    {
     "name": "stdout",
     "output_type": "stream",
     "text": [
      "[[0 0 0 0]\n",
      " [0 0 0 0]\n",
      " [0 0 0 0]]\n"
     ]
    }
   ],
   "source": [
    "C0 = np.zeros_like(A1)\n",
    "print(C0)"
   ]
  },
  {
   "cell_type": "code",
   "execution_count": 109,
   "id": "a9a8c61a-7297-49ef-87cc-ac42e615e51c",
   "metadata": {},
   "outputs": [
    {
     "name": "stdout",
     "output_type": "stream",
     "text": [
      "[[1 1 1 1]\n",
      " [1 1 1 1]\n",
      " [1 1 1 1]]\n"
     ]
    }
   ],
   "source": [
    "D1 = np.ones_like(B1)\n",
    "print(D1)"
   ]
  },
  {
   "cell_type": "code",
   "execution_count": 123,
   "id": "0207b6a2-6330-4242-9800-7ca12a865aae",
   "metadata": {},
   "outputs": [
    {
     "data": {
      "text/plain": [
       "array([[1, 1, 1, 1],\n",
       "       [1, 1, 1, 1],\n",
       "       [1, 1, 1, 1],\n",
       "       [0, 0, 0, 0],\n",
       "       [0, 0, 0, 0],\n",
       "       [0, 0, 0, 0]])"
      ]
     },
     "execution_count": 123,
     "metadata": {},
     "output_type": "execute_result"
    }
   ],
   "source": [
    "np.concatenate([A1,C0])\n",
    "# C0.dtype"
   ]
  },
  {
   "cell_type": "code",
   "execution_count": 124,
   "id": "169b08e3-8894-4e36-9f98-75e266b65dcb",
   "metadata": {},
   "outputs": [
    {
     "data": {
      "text/plain": [
       "(6, 4)"
      ]
     },
     "execution_count": 124,
     "metadata": {},
     "output_type": "execute_result"
    }
   ],
   "source": [
    "# To find the shape of the last output displayed\n",
    "_.shape"
   ]
  },
  {
   "cell_type": "code",
   "execution_count": 127,
   "id": "c4b07f05-e18a-43e1-a29b-2a2edb27b90c",
   "metadata": {},
   "outputs": [
    {
     "name": "stdout",
     "output_type": "stream",
     "text": [
      "[[0.29339518 0.59631984 0.1373254  0.46396914 0.40352115]\n",
      " [0.88149025 0.18658059 0.22034055 0.88585262 0.58141775]\n",
      " [0.80442171 0.96276213 0.33604974 0.99407688 0.62847841]]\n"
     ]
    }
   ],
   "source": [
    "# R = np.random([3])\n",
    "R = np.random.random([3,5])\n",
    "print(R)"
   ]
  },
  {
   "cell_type": "markdown",
   "id": "a006c956-1a2c-4a34-ab81-60ef5249fe21",
   "metadata": {},
   "source": [
    "#### Careful note with randn(d0,d1...:n) but not ([])"
   ]
  },
  {
   "cell_type": "code",
   "execution_count": 139,
   "id": "e074458b-bbc5-4611-85f5-8610b8693a4d",
   "metadata": {},
   "outputs": [
    {
     "name": "stdout",
     "output_type": "stream",
     "text": [
      "[[ 1.77728233  0.06834353 -0.36893137  0.09205757 -1.88545861  0.37660944\n",
      "  -0.74613761  0.81193089 -0.61642476 -0.51333582]\n",
      " [ 1.25238469 -0.02663728  0.01654551  0.28779102 -0.05774721  0.38212297\n",
      "  -1.15717059  0.48019018 -0.0625067   0.20336131]]\n"
     ]
    }
   ],
   "source": [
    "N = np.random.randn(2,10)\n",
    "print(N)"
   ]
  }
 ],
 "metadata": {
  "kernelspec": {
   "display_name": "Python 3 (ipykernel)",
   "language": "python",
   "name": "python3"
  },
  "language_info": {
   "codemirror_mode": {
    "name": "ipython",
    "version": 3
   },
   "file_extension": ".py",
   "mimetype": "text/x-python",
   "name": "python",
   "nbconvert_exporter": "python",
   "pygments_lexer": "ipython3",
   "version": "3.8.13"
  }
 },
 "nbformat": 4,
 "nbformat_minor": 5
}
